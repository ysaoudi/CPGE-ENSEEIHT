{
 "cells": [
  {
   "cell_type": "markdown",
   "metadata": {},
   "source": [
    "<center>\n",
    "<h1> Recherche Opérationnelle : TP 3 et 4 </h1>\n",
    "<h1> Année 2020-2021 - 2e année département Sciences du Numérique </h1>\n",
    "<h1> Hajji Manal</h1>\n",
    "<h1> Youness Saaoudi </h1>    \n",
    "</center>"
   ]
  },
  {
   "cell_type": "code",
   "execution_count": 114,
   "metadata": {},
   "outputs": [
    {
     "name": "stderr",
     "output_type": "stream",
     "text": [
      "\u001b[32m\u001b[1m  Resolving\u001b[22m\u001b[39m package versions...\n",
      "\u001b[32m\u001b[1mNo Changes\u001b[22m\u001b[39m to `~/.julia/environments/v1.5/Project.toml`\n",
      "\u001b[32m\u001b[1mNo Changes\u001b[22m\u001b[39m to `~/.julia/environments/v1.5/Manifest.toml`\n",
      "\u001b[32m\u001b[1m  Resolving\u001b[22m\u001b[39m package versions...\n",
      "\u001b[32m\u001b[1mNo Changes\u001b[22m\u001b[39m to `~/.julia/environments/v1.5/Project.toml`\n",
      "\u001b[32m\u001b[1mNo Changes\u001b[22m\u001b[39m to `~/.julia/environments/v1.5/Manifest.toml`\n"
     ]
    }
   ],
   "source": [
    "#importer les packages utiles, le manager de package Pkg etant un package\n",
    "import Pkg; Pkg.add(\"Cbc\")\n",
    "Pkg.add(\"JuMP\")"
   ]
  },
  {
   "cell_type": "markdown",
   "metadata": {},
   "source": [
    "# Programmation dynamique avec Bellman-Ford\n",
    "\n",
    "## Modélisation du problème\n",
    "### function Bellman_Ford(list graph, list sommets,Sign signe) is\n",
    "\n",
    "    // Cette implémentation prend un graphe, représenté par\n",
    "    // listes de sommets (représentés par des entiers [0..n-1]) et d'arêtes,\n",
    "    // et remplit deux tableaux (distance et prédécesseur) contenant\n",
    "    // le chemin le plus court, ou le plus long, de la source à chaque sommet selon le signe.\n",
    "\n",
    "    distance := liste de taille n\n",
    "    predecesseurs := liste de taille n\n",
    "\n",
    "    // Etape 1: initialiser le graph\n",
    "    pour tout sommet v in sommets faire\n",
    "        distance[v] := inf             // Initialise la distance de tous les sommets à l'infini\n",
    "        predecesseurs[v] := source         // Et ayant source comme prédécesseur \n",
    "    \n",
    "    distance[source] := 0              // la distance de la source à elle-même est, bien entendu, nulle\n",
    "\n",
    "    // Étape 2: relâcher les bords à plusieurs reprises\n",
    "    Répéter |Sommets|−1 fois:\n",
    "        pour tout arete (u, v) avec poids w dans les bords\n",
    "            Si distance[u] + signe(w) < distance[v] alors\n",
    "                distance[v] := distance[u] + signe(w)\n",
    "                chemin[v] := v + chemin[u] \n",
    "                predecesseurs[v] := u\n",
    "\n",
    "    // Étape 3: vérifier les cycles de poids négatifs\n",
    "    pour tout arete (u, v) avec poids w dans les bords\n",
    "        Si distance[u] + signe(w) < distance[v] alors\n",
    "            erreur \"Présence de cycle de poids négatif !\"\n",
    "\n",
    "    return distance, predecesseurs"
   ]
  },
  {
   "cell_type": "code",
   "execution_count": 412,
   "metadata": {},
   "outputs": [
    {
     "data": {
      "text/plain": [
       "Bellman_Ford (generic function with 1 method)"
      ]
     },
     "execution_count": 412,
     "metadata": {},
     "output_type": "execute_result"
    }
   ],
   "source": [
    "function indexOf(sommets,s)\n",
    "    for i in 1:length(sommets)\n",
    "        if sommets[i] == s\n",
    "            return i\n",
    "        end\n",
    "    end\n",
    "end\n",
    "\n",
    "function Bellman_Ford(graph,sommets,signe)\n",
    "    \n",
    "    for i in 2:length(sommets)\n",
    "        s = indexOf(sommets,sommets[i])\n",
    "        distance[s] = typemax(Int64)\n",
    "        predecesseurs[s] = sommets[1]\n",
    "    end\n",
    "    \n",
    "    source = indexOf(sommets,sommets[1])\n",
    "    distance[source] = 0.0\n",
    "    \n",
    "    cheminTilde = cheminSommets\n",
    "    \n",
    "    for k in 2:length(sommets)-1\n",
    "        for i_arc in 1:length(graph)\n",
    "            \n",
    "            s1 = graph[i_arc][1]\n",
    "            s2 = graph[i_arc][2]\n",
    "            i1 = indexOf(sommets,s1)\n",
    "            i2 = indexOf(sommets,s2)\n",
    "            poids = signe(graph[i_arc][3])\n",
    "            \n",
    "            if distance[i1] + poids < distance[i2] \n",
    "                distance[i2] = distance[i1] + poids\n",
    "                cheminTilde[i2] = append!([s1],cheminSommets[i1])\n",
    "                predecesseurs[i2] = s1\n",
    "            end                \n",
    "        end       \n",
    "    end\n",
    "    \n",
    "    for i_arc in 1:length(graph)\n",
    "        s1 = graph[i_arc][1]\n",
    "        s2 = graph[i_arc][2]\n",
    "        i1 = indexOf(sommets,s1)\n",
    "        i2 = indexOf(sommets,s2)\n",
    "        poids = signe(graph[i_arc][3])\n",
    "        if (distance[i2] > distance[i1] + poids) && (distance[i1] != typemax(Int64))\n",
    "            println(\"--------------------------------------\")\n",
    "            println(\"Présence de cycle de poids négatif !\")           \n",
    "        end\n",
    "    end\n",
    "    \n",
    "    println(\"--------------------------------------\")\n",
    "    println(\"distance = \", signe(distance))\n",
    "    println(\"--------------------------------------\")\n",
    "    println(\"predecesseurs = \", predecesseurs)\n",
    "    println(\"--------------------------------------\")\n",
    "    println(\"Chemin de \",sommets[1], \" au sommet : \")\n",
    "    println(\" \")\n",
    "    \n",
    "    for k in 1:length(cheminSommets)\n",
    "        cheminTilde[k] = reverse(append!([sommets[k]],cheminTilde[k]))\n",
    "        println(sommets[k],  \"  |  \", cheminTilde[k] )\n",
    "        println(\"_______________________________\")\n",
    "    end\n",
    "\n",
    "end\n",
    "\n"
   ]
  },
  {
   "cell_type": "markdown",
   "metadata": {},
   "source": [
    "## Calcul du plus court chemin entre deux sommets d’un graphe\n",
    "Pour calculer le plus court chemin entre un sommet source s et tous les autres sommets d’un graphe quelconque avec l'algorithme de Bellman_Ford, en prend signe = \"+\""
   ]
  },
  {
   "cell_type": "code",
   "execution_count": 413,
   "metadata": {},
   "outputs": [
    {
     "data": {
      "text/plain": [
       "Bellman_Ford_cc (generic function with 1 method)"
      ]
     },
     "execution_count": 413,
     "metadata": {},
     "output_type": "execute_result"
    }
   ],
   "source": [
    "# Fonction qui calcule le plus court chemin (cc)\n",
    "function Bellman_Ford_cc(graph,sommets)\n",
    "    Bellman_Ford(graph,sommets,+)\n",
    "end"
   ]
  },
  {
   "cell_type": "code",
   "execution_count": 414,
   "metadata": {},
   "outputs": [
    {
     "name": "stdout",
     "output_type": "stream",
     "text": [
      "--------------------------------------\n",
      "Présence de cycle de poids négatif !\n",
      "--------------------------------------\n",
      "distance = [0, 9223372036854775807]\n",
      "--------------------------------------\n",
      "predecesseurs = [\"A1\", \"A1\"]\n",
      "--------------------------------------\n",
      "Chemin de A1 au sommet : \n",
      " \n",
      "A1  |  Any[\"A1\"]\n",
      "_______________________________\n",
      "B1  |  Any[\"B1\"]\n",
      "_______________________________\n"
     ]
    }
   ],
   "source": [
    "graph = [[\"A1\",\"B1\",3]]\n",
    "sommets = [\"A1\",\"B1\"] # La source est le premier élément de sommets\n",
    "distance = [0,0]\n",
    "predecesseurs = [\"A1\",\"A1\"]\n",
    "cheminSommets = [[],[]]\n",
    "Bellman_Ford_cc(graph,sommets)"
   ]
  },
  {
   "cell_type": "markdown",
   "metadata": {},
   "source": [
    "### Test avec l'exemple du sujet"
   ]
  },
  {
   "cell_type": "code",
   "execution_count": 401,
   "metadata": {},
   "outputs": [
    {
     "name": "stdout",
     "output_type": "stream",
     "text": [
      "--------------------------------------\n",
      "distance = [0, 3, 7, 9, 5, 12]\n",
      "--------------------------------------\n",
      "predecesseurs = ['A', 'A', 'B', 'C', 'A', 'D']\n",
      "--------------------------------------\n",
      "Chemin de A au sommet : \n",
      " \n",
      "A  |  Any['A']\n",
      "_______________________________\n",
      "B  |  Any['A', 'B']\n",
      "_______________________________\n",
      "C  |  Any['A', 'B', 'C']\n",
      "_______________________________\n",
      "D  |  Any['A', 'B', 'C', 'D']\n",
      "_______________________________\n",
      "E  |  Any['A', 'E']\n",
      "_______________________________\n",
      "F  |  Any['A', 'B', 'C', 'D', 'F']\n",
      "_______________________________\n"
     ]
    }
   ],
   "source": [
    "sommets = ['A', 'B', 'C', 'D', 'E', 'F'] # La source est le premier élément de sommets\n",
    "graph = [('A', 'B', 3), ('A', 'E', 5), ('B', 'C', 4), ('E', 'B', -1), ('E', 'D', 9), ('C', 'D', 2), ('D', 'F', 3)] \n",
    "distance = [0, 0, 0, 0, 0, 0]\n",
    "predecesseurs = ['A', 'A', 'A', 'A', 'A', 'A']\n",
    "cheminSommets = [[],[],[],[],[],[]]\n",
    "Bellman_Ford_cc(graph,sommets)"
   ]
  },
  {
   "cell_type": "markdown",
   "metadata": {},
   "source": [
    "### Remarque :\n",
    "- En calculant à la main on obtient le même résultat pour l'exemple du sujet."
   ]
  },
  {
   "cell_type": "markdown",
   "metadata": {},
   "source": [
    "## Calcul du plus long chemin entre deux sommets d’un graphe\n",
    "- Pour calculer le plus long chemin entre un sommet source s et tous les autres sommets d’un graphe quelconque avec l'algorithme de Bellman_Ford, on prend signe = \"-\" .\n",
    "- Chercher le min avec un poids négatif est le même que chercher le max avec un poids positif"
   ]
  },
  {
   "cell_type": "code",
   "execution_count": 592,
   "metadata": {},
   "outputs": [
    {
     "data": {
      "text/plain": [
       "Bellman_Ford_lc (generic function with 1 method)"
      ]
     },
     "execution_count": 592,
     "metadata": {},
     "output_type": "execute_result"
    }
   ],
   "source": [
    "# Fonction qui calcule le plus long chemin (lc)\n",
    "function Bellman_Ford_lc(graph,sommets)\n",
    "    Bellman_Ford(graph,sommets,-)\n",
    "end"
   ]
  },
  {
   "cell_type": "markdown",
   "metadata": {},
   "source": [
    "### Test avec l'exemple du sujet"
   ]
  },
  {
   "cell_type": "code",
   "execution_count": 593,
   "metadata": {},
   "outputs": [
    {
     "name": "stdout",
     "output_type": "stream",
     "text": [
      "--------------------------------------\n",
      "distance = [0, 4, 8, 14, 5, 17]\n",
      "--------------------------------------\n",
      "predecesseurs = ['A', 'E', 'B', 'E', 'A', 'D']\n",
      "--------------------------------------\n",
      "Chemin de A au sommet : \n",
      " \n",
      "A  |  Any['A']\n",
      "_______________________________\n",
      "B  |  Any['A', 'E', 'B']\n",
      "_______________________________\n",
      "C  |  Any['A', 'E', 'B', 'C']\n",
      "_______________________________\n",
      "D  |  Any['A', 'E', 'D']\n",
      "_______________________________\n",
      "E  |  Any['A', 'E']\n",
      "_______________________________\n",
      "F  |  Any['A', 'E', 'D', 'F']\n",
      "_______________________________\n"
     ]
    }
   ],
   "source": [
    "sommets = ['A', 'B', 'C', 'D', 'E', 'F'] # La source est le premier élément de sommets\n",
    "graph = [('A', 'B', 3), ('A', 'E', 5), ('B', 'C', 4), ('E', 'B', -1), ('E', 'D', 9), ('C', 'D', 2), ('D', 'F', 3)] \n",
    "distance = [0, 0, 0, 0, 0, 0]\n",
    "predecesseurs = ['A', 'A', 'A', 'A', 'A', 'A']\n",
    "cheminSommets = [[],[],[],[],[],[]]\n",
    "Bellman_Ford_lc(graph,sommets)"
   ]
  },
  {
   "cell_type": "markdown",
   "metadata": {},
   "source": [
    "### Autre implémentation pour trouver le chemin le plus long"
   ]
  },
  {
   "cell_type": "code",
   "execution_count": 551,
   "metadata": {},
   "outputs": [
    {
     "data": {
      "text/plain": [
       "Bellman_Ford_long (generic function with 1 method)"
      ]
     },
     "execution_count": 551,
     "metadata": {},
     "output_type": "execute_result"
    }
   ],
   "source": [
    "function indexOf(sommets,s)\n",
    "    for i in 1:length(sommets)\n",
    "        if sommets[i] == s\n",
    "            return i\n",
    "        end\n",
    "    end\n",
    "end\n",
    "\n",
    "function Bellman_Ford_long(graph,sommets)\n",
    "    \n",
    "    for i in 2:length(sommets)\n",
    "        s = indexOf(sommets,sommets[i])\n",
    "        distance[s] = -typemax(Int64)  ## On prend -infini au lieu de +infini\n",
    "        predecesseurs[s] = sommets[1]\n",
    "    end\n",
    "    \n",
    "    source = indexOf(sommets,sommets[1])\n",
    "    distance[source] = 0.0\n",
    "    \n",
    "    cheminTilde = cheminSommets\n",
    "    \n",
    "    for k in 2:length(sommets)-1\n",
    "        for i_arc in 1:length(graph)\n",
    "            \n",
    "            s1 = graph[i_arc][1]\n",
    "            s2 = graph[i_arc][2]\n",
    "            i1 = indexOf(sommets,s1)\n",
    "            i2 = indexOf(sommets,s2)\n",
    "            poids = graph[i_arc][3]\n",
    "            \n",
    "            if distance[i1] + poids > distance[i2] ## on inverse le sens de comparaison\n",
    "                distance[i2] = distance[i1] + poids\n",
    "                cheminTilde[i2] = append!([s1],cheminSommets[i1])\n",
    "                predecesseurs[i2] = s1\n",
    "            end                \n",
    "        end       \n",
    "    end\n",
    "    \n",
    "    for i_arc in 1:length(graph)\n",
    "        s1 = graph[i_arc][1]\n",
    "        s2 = graph[i_arc][2]\n",
    "        i1 = indexOf(sommets,s1)\n",
    "        i2 = indexOf(sommets,s2)\n",
    "        poids = graph[i_arc][3]\n",
    "        if (distance[i2] < distance[i1] + poids) && (distance[i1] != typemax(Int64))\n",
    "            println(\"--------------------------------------\")\n",
    "            println(\"Présence de cycle de poids négatif !\")           \n",
    "        end\n",
    "    end\n",
    "    \n",
    "    println(\"--------------------------------------\")\n",
    "    println(\"distance = \", distance)\n",
    "    println(\"--------------------------------------\")\n",
    "    println(\"predecesseurs = \", predecesseurs)\n",
    "    println(\"--------------------------------------\")\n",
    "    println(\"Chemin de \",sommets[1], \" au sommet : \")\n",
    "    println(\" \")\n",
    "    \n",
    "    for k in 1:length(cheminSommets)\n",
    "        cheminTilde[k] = reverse(append!([sommets[k]],cheminTilde[k]))\n",
    "        println(sommets[k],  \"  |  \", cheminTilde[k] )\n",
    "        println(\"_______________________________\")\n",
    "    end\n",
    "\n",
    "end\n",
    "\n"
   ]
  },
  {
   "cell_type": "markdown",
   "metadata": {},
   "source": [
    "### Test avec l'exemple du sujet"
   ]
  },
  {
   "cell_type": "code",
   "execution_count": 418,
   "metadata": {},
   "outputs": [
    {
     "name": "stdout",
     "output_type": "stream",
     "text": [
      "--------------------------------------\n",
      "distance = [0, 4, 8, 14, 5, 17]\n",
      "--------------------------------------\n",
      "predecesseurs = ['A', 'E', 'B', 'E', 'A', 'D']\n",
      "--------------------------------------\n",
      "Chemin de A au sommet : \n",
      " \n",
      "A  |  Any['A']\n",
      "_______________________________\n",
      "B  |  Any['A', 'E', 'B']\n",
      "_______________________________\n",
      "C  |  Any['A', 'E', 'B', 'C']\n",
      "_______________________________\n",
      "D  |  Any['A', 'E', 'D']\n",
      "_______________________________\n",
      "E  |  Any['A', 'E']\n",
      "_______________________________\n",
      "F  |  Any['A', 'E', 'D', 'F']\n",
      "_______________________________\n"
     ]
    }
   ],
   "source": [
    "sommets = ['A', 'B', 'C', 'D', 'E', 'F'] # La source est le premier élément de sommets\n",
    "graph = [('A', 'B', 3), ('A', 'E', 5), ('B', 'C', 4), ('E', 'B', -1), ('E', 'D', 9), ('C', 'D', 2), ('D', 'F', 3)] \n",
    "distance = [0, 0, 0, 0, 0, 0]\n",
    "predecesseurs = ['A', 'A', 'A', 'A', 'A', 'A']\n",
    "cheminSommets = [[],[],[],[],[],[]]\n",
    "Bellman_Ford_long(graph,sommets)"
   ]
  },
  {
   "cell_type": "markdown",
   "metadata": {},
   "source": [
    "### remarque : \n",
    "- On obtient le même résultat avec les deux implémentations\n",
    "- En calculant à la main on obtient le même résultat aussi."
   ]
  },
  {
   "cell_type": "markdown",
   "metadata": {},
   "source": [
    "# Extensions et adaptations\n",
    "## Construction d’un réseau de transmission à vitesse maximale\n",
    "- On désire relier par un réseau, un processeur central P à divers processeurs. La vitesse de transmission d’un chemin du processeur central P au processeur K est égale à la plus petite des vitesses de transmission rencontrées sur ce chemin.\n",
    "- On souhaite alors trouver les chemins de vitesses maximales reliant le processeur central P à tous les autres processeurs K du réseau. \n",
    "\n",
    "Pour ceci, on rajoute à la fonction Bellman_Ford une liste de tous les poids rencontrés sur un chemin possible allant à K et on enregistre de fur et à mesure les sommets rencontrés dans une liste chemin."
   ]
  },
  {
   "cell_type": "code",
   "execution_count": 600,
   "metadata": {},
   "outputs": [
    {
     "data": {
      "text/plain": [
       "Bellman_Ford_2 (generic function with 2 methods)"
      ]
     },
     "execution_count": 600,
     "metadata": {},
     "output_type": "execute_result"
    }
   ],
   "source": [
    "function indexOf(sommets,s)\n",
    "    for i in 1:length(sommets)\n",
    "        if sommets[i] == s\n",
    "            return i\n",
    "        end\n",
    "    end\n",
    "end\n",
    "\n",
    "function Bellman_Ford_2(graph,sommets,signe,liste)\n",
    "    \n",
    "    for i in 2:length(sommets)\n",
    "        s = indexOf(sommets,sommets[i])\n",
    "        distance[s] = typemax(Int64)\n",
    "        predecesseurs[s] = sommets[1]\n",
    "    end\n",
    "    listeTilde = liste\n",
    "    cheminTilde = cheminSommets\n",
    "    source = indexOf(sommets,sommets[1])\n",
    "    distance[source] = 0\n",
    "    for k in 2:length(sommets)-1\n",
    "        for i_arc in 1:length(graph)\n",
    "            \n",
    "            s1 = graph[i_arc][1]\n",
    "            s2 = graph[i_arc][2]\n",
    "            i1 = indexOf(sommets,s1)\n",
    "            i2 = indexOf(sommets,s2)\n",
    "            poids = signe(graph[i_arc][3])\n",
    "            \n",
    "            if distance[i1] + poids < distance[i2] \n",
    "                distance[i2] = distance[i1] + poids\n",
    "                listeTilde[i2] = append!([poids],liste[i1])\n",
    "                cheminTilde[i2] = append!([s1],cheminSommets[i1]) \n",
    "                predecesseurs[i2] = s1\n",
    "                \n",
    "            end                \n",
    "        end       \n",
    "    end\n",
    "    \n",
    "    k=0\n",
    "    for i_arc in 1:length(graph)\n",
    "        s1 = graph[i_arc][1]\n",
    "        s2 = graph[i_arc][2]\n",
    "        i1 = indexOf(sommets,s1)\n",
    "        i2 = indexOf(sommets,s2)\n",
    "        poids = signe(graph[i_arc][3])\n",
    "        if (distance[i2] > distance[i1] + poids) && (distance[i1] != typemax(Int64))\n",
    "               k = k+1        \n",
    "        end\n",
    "    end\n",
    "    \n",
    "    if k>0\n",
    "        println(\"Présence de cycle de poids négatif !\")\n",
    "        println(\"--------------------------------------\")\n",
    "    end\n",
    "\n",
    "    return [signe(listeTilde),cheminTilde]\n",
    "end"
   ]
  },
  {
   "cell_type": "markdown",
   "metadata": {},
   "source": [
    "Pour ce qui suit, on prend le chemin le plus court et le plus long. Après on parcourt le graphe et on regarde tous les prédecesseurs d'un sommet K. si ce prédecesseur à une vitesse plus grande que celle enregistrée dans la vitesse du sommet, on met à jour cette vitesse et aussi le chemin parcouru. "
   ]
  },
  {
   "cell_type": "code",
   "execution_count": 601,
   "metadata": {},
   "outputs": [
    {
     "data": {
      "text/plain": [
       "vitesseMax (generic function with 1 method)"
      ]
     },
     "execution_count": 601,
     "metadata": {},
     "output_type": "execute_result"
    }
   ],
   "source": [
    "function Bellman_Ford_2_cc(graph,sommets,liste)\n",
    "    return Bellman_Ford_2(graph,sommets,+,liste)\n",
    "end\n",
    "\n",
    "# Fonction qui calcule le plus long chemin (lc)\n",
    "function Bellman_Ford_2_lc(graph,sommets,liste)\n",
    "    return Bellman_Ford_2(graph,sommets,-,liste)\n",
    "end\n",
    "\n",
    "function vitesseMax(grah,sommets,liste)\n",
    "\n",
    "    liste1 = (Bellman_Ford_2_cc(grah,sommets,liste))[1]\n",
    "    chemin1 = (Bellman_Ford_2_cc(grah,sommets,liste))[2]\n",
    "\n",
    "    liste2 = (Bellman_Ford_2_lc(grah,sommets,liste))[1]\n",
    "    chemin2 = (Bellman_Ford_2_lc(grah,sommets,liste))[2]\n",
    "    \n",
    "    println(\" \")\n",
    "    println(\"Vitesse max\")\n",
    "    println(\"**************************************\")\n",
    "    liste[1] = [0]\n",
    "    println(\"-----------\")\n",
    "    println(sommets[1],\"  |   \",liste[1][1])\n",
    "    println(\"-----------\")\n",
    "    \n",
    "    cheminTilde = chemin\n",
    "    for i in 2:length(sommets)\n",
    "        liste[i] = [max(minimum(liste1[i]),minimum(liste2[i]))]\n",
    "        \n",
    "        if liste[i][1] == minimum(liste1[i])\n",
    "            cheminTilde[i] = chemin1[i]\n",
    "        else\n",
    "            cheminTilde[i] = chemin2[i]\n",
    "        end  \n",
    "        \n",
    "    end\n",
    "    \n",
    "    \n",
    "    for i in 2:length(sommets)\n",
    "        \n",
    "        for j in 1:length(graph)\n",
    "            if graph[j][2] == sommets[i]\n",
    "                j1 = indexOf(sommets,graph[j][1])\n",
    "                if j1 != 1\n",
    "                    \n",
    "                    if liste[j1][1] > graph[j][3]\n",
    "                        a = graph[j][3]\n",
    "                        liste[i][1] = max(liste[i][1],a)\n",
    "                        if liste[i][1] == a\n",
    "                            cheminTilde[i] = append!([sommets[j1]],cheminTilde[j1])\n",
    "                        end\n",
    "                        \n",
    "                    else\n",
    "                        liste[i][1] = max(liste[i][1],liste[j1][1])\n",
    "                        if liste[i][1] == liste[j1][1]\n",
    "                            cheminTilde[i] = append!([sommets[j1]],cheminTilde[j1])\n",
    "                        end                        \n",
    "                    end                \n",
    "                    \n",
    "                end\n",
    "            end\n",
    "        end\n",
    "        \n",
    "        println(sommets[i],\"  |   \",liste[i][1])\n",
    "        println(\"-----------\")\n",
    "    end\n",
    "    \n",
    "    println(\" \")\n",
    "    println(\"Chemin de \",sommets[1], \" au sommet : \")\n",
    "    println(\"**************************************\")\n",
    "    \n",
    "    for k in 1:length(cheminSommets)\n",
    "        cheminTilde[k] = append!([sommets[k]],cheminTilde[k])\n",
    "        println(\" \")\n",
    "        println(sommets[k],  \"  |  \", reverse(cheminTilde[k]))\n",
    "        println(\"_______________________________\")\n",
    "    end \n",
    "end"
   ]
  },
  {
   "cell_type": "markdown",
   "metadata": {},
   "source": [
    "### Test avec plusieurs exemples\n",
    "- Afin de vérifier la validité du résultat avec l'algorithme implémenté, on a mis plusieurs cas dont on a calculé la vitesse max et le chemin parcouru pour arriver à chaque sommet.\n",
    "- Il reste alors qu'à comparer les résultats obtenus\n"
   ]
  },
  {
   "cell_type": "code",
   "execution_count": 602,
   "metadata": {},
   "outputs": [
    {
     "name": "stdout",
     "output_type": "stream",
     "text": [
      " \n",
      "Vitesse max\n",
      "**************************************\n",
      "-----------\n",
      "A  |   0\n",
      "-----------\n",
      "B  |   3\n",
      "-----------\n",
      "C  |   3\n",
      "-----------\n",
      "D  |   6\n",
      "-----------\n",
      "E  |   5\n",
      "-----------\n",
      "F  |   3\n",
      "-----------\n",
      "G  |   7\n",
      "-----------\n",
      " \n",
      "Chemin de A au sommet : \n",
      "**************************************\n",
      " \n",
      "A  |  Any['A']\n",
      "_______________________________\n",
      " \n",
      "B  |  Any['A', 'B']\n",
      "_______________________________\n",
      " \n",
      "C  |  Any['A', 'B', 'C']\n",
      "_______________________________\n",
      " \n",
      "D  |  Any['A', 'G', 'D']\n",
      "_______________________________\n",
      " \n",
      "E  |  Any['A', 'E']\n",
      "_______________________________\n",
      " \n",
      "F  |  Any['A', 'G', 'D', 'F']\n",
      "_______________________________\n",
      " \n",
      "G  |  Any['A', 'G']\n",
      "_______________________________\n"
     ]
    }
   ],
   "source": [
    "sommets = ['A', 'B', 'C', 'D', 'E', 'F','G'] # La source est le premier élément de sommets\n",
    "graph = [('A', 'B', 3), ('A', 'E', 5),('A','G',7),('G','D', 6), ('B', 'C', 4), ('E', 'B', -1), ('E', 'D', 9), ('C', 'D', 2), ('D', 'F', 3)] \n",
    "distance = [0, 0, 0, 0, 0, 0, 0]\n",
    "predecesseurs = ['A', 'A', 'A', 'A', 'A', 'A', 'A']\n",
    "liste = [[],[],[],[],[],[],[]]\n",
    "chemin = [[],[],[],[],[],[],[]]\n",
    "cheminSommets = [[],[],[],[],[],[],[]]\n",
    "vitesseMax(graph,sommets,liste)"
   ]
  },
  {
   "cell_type": "code",
   "execution_count": 603,
   "metadata": {},
   "outputs": [
    {
     "name": "stdout",
     "output_type": "stream",
     "text": [
      " \n",
      "Vitesse max\n",
      "**************************************\n",
      "-----------\n",
      "A  |   0\n",
      "-----------\n",
      "B  |   3\n",
      "-----------\n",
      "C  |   3\n",
      "-----------\n",
      "D  |   5\n",
      "-----------\n",
      "E  |   5\n",
      "-----------\n",
      "F  |   3\n",
      "-----------\n",
      " \n",
      "Chemin de A au sommet : \n",
      "**************************************\n",
      " \n",
      "A  |  Any['A']\n",
      "_______________________________\n",
      " \n",
      "B  |  Any['A', 'B']\n",
      "_______________________________\n",
      " \n",
      "C  |  Any['A', 'B', 'C']\n",
      "_______________________________\n",
      " \n",
      "D  |  Any['A', 'E', 'D']\n",
      "_______________________________\n",
      " \n",
      "E  |  Any['A', 'E']\n",
      "_______________________________\n",
      " \n",
      "F  |  Any['A', 'E', 'D', 'F']\n",
      "_______________________________\n"
     ]
    }
   ],
   "source": [
    "sommets = ['A', 'B', 'C', 'D', 'E', 'F'] # La source est le premier élément de sommets\n",
    "graph = [('A', 'B', 3), ('A', 'E', 5), ('B', 'C', 4), ('E', 'B', -1), ('E', 'D', 9), ('C', 'D', 2), ('D', 'F', 3)] \n",
    "distance = [0, 0, 0, 0, 0, 0]\n",
    "predecesseurs = ['A', 'A', 'A', 'A', 'A', 'A']\n",
    "liste = [[],[],[],[],[],[]]\n",
    "chemin = [[],[],[],[],[],[]]\n",
    "cheminSommets = [[],[],[],[],[],[]]\n",
    "vitesseMax(graph,sommets,liste)"
   ]
  },
  {
   "cell_type": "code",
   "execution_count": 605,
   "metadata": {},
   "outputs": [
    {
     "name": "stdout",
     "output_type": "stream",
     "text": [
      "Présence de cycle de poids négatif !\n",
      "--------------------------------------\n",
      "Présence de cycle de poids négatif !\n",
      "--------------------------------------\n",
      " \n",
      "Vitesse max\n",
      "**************************************\n",
      "-----------\n",
      "P  |   0\n",
      "-----------\n",
      "1  |   5\n",
      "-----------\n",
      "2  |   4\n",
      "-----------\n",
      "3  |   2\n",
      "-----------\n",
      "4  |   3\n",
      "-----------\n",
      "5  |   3\n",
      "-----------\n",
      "6  |   3\n",
      "-----------\n",
      " \n",
      "Chemin de P au sommet : \n",
      "**************************************\n",
      " \n",
      "P  |  Any['P']\n",
      "_______________________________\n",
      " \n",
      "1  |  Any['P', '1']\n",
      "_______________________________\n",
      " \n",
      "2  |  Any['P', '1', '2']\n",
      "_______________________________\n",
      " \n",
      "3  |  Any['P', '1', '2', '4', '6', 'P', '1', '2', '4', '6', 'P', '1', '2', '4', '6', 'P', '1', '2', '4', '6', 'P', '1', '2', '4', '6', 'P', '1', '2', '4', '6', 'P', '1', '2', '4', '6', 'P', '1', '2', '4', '6', 'P', '1', '2', '4', '6', 'P', '1', '2', '4', '5', '3']\n",
      "_______________________________\n",
      " \n",
      "4  |  Any['P', '6', '4']\n",
      "_______________________________\n",
      " \n",
      "5  |  Any['P', '6', '4', '5']\n",
      "_______________________________\n",
      " \n",
      "6  |  Any['P', '6', '4', '6']\n",
      "_______________________________\n"
     ]
    }
   ],
   "source": [
    "sommets = ['P', '1', '2', '3', '4', '5','6'] # La source est le premier élément de sommets\n",
    "graph = [('P', '1', 5), ('P', '4', 1), ('P', '6', 3), ('1', 'P', 5), ('1', '2', 4), ('2', '1', 4), ('2', '3', 1), ('2', '4', 2), ('2', '5', 2), ('3', '2', 1), ('3', '5', 2), ('4', 'P', 1), ('4', '2', 2), ('4', '5', 3), ('4', '6', 5), ('5', '2', 2), ('5', '3', 2), ('5', '4', 3), ('6', 'P', 3), ('6', '4', 5)] \n",
    "distance = [0, 0, 0, 0, 0, 0, 0]\n",
    "predecesseurs = ['P', 'P', 'P', 'P', 'P', 'P', 'P']\n",
    "liste = [[],[],[],[],[],[],[]]\n",
    "chemin = [[],[],[],[],[],[],[]]\n",
    "cheminSommets = [[],[],[],[],[],[],[]]\n",
    "vitesseMax(graph,sommets,liste)"
   ]
  },
  {
   "cell_type": "markdown",
   "metadata": {},
   "source": [
    "### Remarque\n",
    "- Tous les résultats obtenus sont compatibles."
   ]
  },
  {
   "cell_type": "markdown",
   "metadata": {},
   "source": [
    "## Fiabilité de procédé de fabrication de semi-conducteurs\n",
    "- Problématique: déterminer le procédé de fabrication le plus sûr, c-à-d comportant le moins de déchets.\n",
    "\n",
    "- Dans un premier cas, on adapte les données d'entrée à l'algorithme comme si on ne dispose que d'une fonction \"Bellman-Ford\" qui calcule avec la somme. \n",
    "- Pour résoudre ce problème la seule solution est d'adapter les données d'entrée pour que cet algorithme puisse le résoudre.\n"
   ]
  },
  {
   "cell_type": "markdown",
   "metadata": {},
   "source": [
    "On a la probabilité d'un évenement A sachant un évenement B∩C est égale à $$P(A)\\times P(B|C)$$\n",
    "Généralement : \n",
    "$$P = P(A1∩⋯∩Am) = P(A1) \\times P(A2|A1)\\times ... \\times P(Am|A1∩⋯∩Am−1)$$\n",
    "Avoir la probabilité P la plus grande est équivalent à avoir log(P) le plus grand (log est une fonction croissante). On aura alors :\n",
    "$$log(P(A1∩⋯∩Am)) = log(P(A1))+ log(P(A2|A1)) + ... + log(P(Am|A1∩⋯∩Am−1))$$\n",
    "et donc trouver le procédé de fabrication le plus sûr revient à trouver le chemin le plus long dans le graphe dont S (souce) est les matières premières, les sommets sont les produits semi-finis intérmédiaires et F est le sommet de l'état final ie le produit fini.\n",
    "On applique alors l'algorithme de Bellman_Ford."
   ]
  },
  {
   "cell_type": "markdown",
   "metadata": {},
   "source": [
    "### Remarque\n",
    "- ici on touche pas à l'algo de Bellman_Ford, mais juste à l'affichage pour ne pas afficher les informations inutiles."
   ]
  },
  {
   "cell_type": "code",
   "execution_count": 565,
   "metadata": {},
   "outputs": [
    {
     "data": {
      "text/plain": [
       "Bellman_Ford_long (generic function with 1 method)"
      ]
     },
     "execution_count": 565,
     "metadata": {},
     "output_type": "execute_result"
    }
   ],
   "source": [
    "function Bellman_Ford_long(graph,sommets)\n",
    "    \n",
    "    for i in 2:length(sommets)\n",
    "        s = indexOf(sommets,sommets[i])\n",
    "        distance[s] = -typemax(Int64)\n",
    "        predecesseurs[s] = sommets[1]\n",
    "    end\n",
    "    \n",
    "    source = indexOf(sommets,sommets[1])\n",
    "    distance[source] = 0.0\n",
    "    \n",
    "    cheminTilde = cheminSommets\n",
    "    \n",
    "    for k in 2:length(sommets)-1\n",
    "        for i_arc in 1:length(graph)\n",
    "            \n",
    "            s1 = graph[i_arc][1]\n",
    "            s2 = graph[i_arc][2]\n",
    "            i1 = indexOf(sommets,s1)\n",
    "            i2 = indexOf(sommets,s2)\n",
    "            poids = graph[i_arc][3]\n",
    "            \n",
    "            if distance[i1] + poids > distance[i2] \n",
    "                distance[i2] = distance[i1] + poids\n",
    "                cheminTilde[i2] = append!([s1],cheminSommets[i1])\n",
    "                predecesseurs[i2] = s1\n",
    "            end                \n",
    "        end       \n",
    "    end\n",
    "    \n",
    "    for i_arc in 1:length(graph)\n",
    "        s1 = graph[i_arc][1]\n",
    "        s2 = graph[i_arc][2]\n",
    "        i1 = indexOf(sommets,s1)\n",
    "        i2 = indexOf(sommets,s2)\n",
    "        poids = graph[i_arc][3]\n",
    "        if (distance[i2] < distance[i1] + poids) && (distance[i1] != typemax(Int64))\n",
    "            println(\"--------------------------------------\")\n",
    "            println(\"Présence de cycle de poids négatif !\")           \n",
    "        end\n",
    "    end\n",
    "    \n",
    "    println(\"--------------------------------------\")\n",
    "    println(\"Chemin de \",sommets[1], \" au sommet : \")\n",
    "    println(\" \")\n",
    "    \n",
    "    for k in 1:length(cheminSommets)\n",
    "        cheminTilde[k] = reverse(append!([sommets[k]],cheminTilde[k]))\n",
    "        println(sommets[k],  \"  |  \", cheminTilde[k] )\n",
    "        println(\"-------------------------------------------\")\n",
    "    end\n",
    "\n",
    "end\n"
   ]
  },
  {
   "cell_type": "markdown",
   "metadata": {},
   "source": [
    "### Test avec l'exemple du sujet"
   ]
  },
  {
   "cell_type": "code",
   "execution_count": 608,
   "metadata": {},
   "outputs": [
    {
     "name": "stdout",
     "output_type": "stream",
     "text": [
      "--------------------------------------\n",
      "Chemin de S au sommet : \n",
      " \n",
      "S  |  Any[\"S\"]\n",
      "-------------------------------------------\n",
      "S1  |  Any[\"S\", \"S1\"]\n",
      "-------------------------------------------\n",
      "S2  |  Any[\"S\", \"S2\"]\n",
      "-------------------------------------------\n",
      "S3  |  Any[\"S\", \"S3\"]\n",
      "-------------------------------------------\n",
      "A1  |  Any[\"S\", \"S1\", \"A1\"]\n",
      "-------------------------------------------\n",
      "A2  |  Any[\"S\", \"S2\", \"A2\"]\n",
      "-------------------------------------------\n",
      "A3  |  Any[\"S\", \"S2\", \"A3\"]\n",
      "-------------------------------------------\n",
      "A4  |  Any[\"S\", \"S3\", \"A4\"]\n",
      "-------------------------------------------\n",
      "D1  |  Any[\"S\", \"S1\", \"A1\", \"D1\"]\n",
      "-------------------------------------------\n",
      "D2  |  Any[\"S\", \"S2\", \"A3\", \"D2\"]\n",
      "-------------------------------------------\n",
      "FG  |  Any[\"S\", \"S1\", \"A1\", \"D1\", \"FG\"]\n",
      "-------------------------------------------\n",
      "FX  |  Any[\"S\", \"S2\", \"A3\", \"D2\", \"FX\"]\n",
      "-------------------------------------------\n",
      "F  |  Any[\"S\", \"S1\", \"A1\", \"D1\", \"FG\", \"F\"]\n",
      "-------------------------------------------\n",
      " \n",
      "Le procédé de fabrication le plus sûr est alors :\n",
      "**************************************************\n",
      "*                                                *\n",
      "*      Any[\"S\", \"S1\", \"A1\", \"D1\", \"FG\", \"F\"]     *\n",
      "*                                                *\n",
      "**************************************************\n"
     ]
    }
   ],
   "source": [
    "sommets = [\"S\",\"S1\",\"S2\",\"S3\",\"A1\",\"A2\",\"A3\",\"A4\",\"D1\",\"D2\",\"FG\",\"FX\",\"F\"]\n",
    "graph = [[\"S\",\"S1\",log(0.98)],[\"S\",\"S2\",log(0.97)],[\"S\",\"S3\",log(0.99)],[\"S1\",\"A1\",log(0.96)],[\"S1\",\"A2\",log(0.95)],[\"S2\",\"A2\",log(0.97)],[\"S2\",\"A3\",log(0.98)],[\"S3\",\"A3\",log(0.95)],[\"S3\",\"A4\",log(0.93)],[\"A1\",\"D1\",log(0.99)],[\"A2\",\"D1\",log(0.96)],[\"A3\",\"D1\",log(0.97)],[\"A3\",\"D2\",log(0.98)],[\"A4\",\"D2\",log(0.99)],[\"D1\",\"FG\",log(0.98)],[\"D1\",\"FX\",log(0.99)],[\"D2\",\"FG\",log(0.96)],[\"D2\",\"FX\",log(0.99)],[\"FG\",\"F\",log(0.99)],[\"FX\",\"F\",log(0.93)]]\n",
    "distance = [0.0, 0.0, 0.0, 0.0, 0.0, 0.0, 0.0, 0.0, 0.0, 0.0, 0.0, 0.0, 0.0]\n",
    "predecesseurs = [\"S\",\"S\",\"S\",\"S\",\"S\",\"S\",\"S\",\"S\",\"S\",\"S\",\"S\",\"S\",\"S\"]\n",
    "cheminSommets = [[],[],[],[],[],[],[],[],[],[],[],[],[]]\n",
    "Bellman_Ford_long(graph,sommets)\n",
    "println(\" \")\n",
    "println(\"Le procédé de fabrication le plus sûr est alors :\")\n",
    "println(\"**************************************************\")\n",
    "println(\"*                                                *\")\n",
    "println(\"*      \",cheminSommets[length(cheminSommets)],\"     *\")\n",
    "println(\"*                                                *\")\n",
    "println(\"**************************************************\")"
   ]
  },
  {
   "cell_type": "markdown",
   "metadata": {},
   "source": [
    "### Second cas\n",
    "- On adapte l'algorithme aux données d'entrée\n",
    "- Vu qu'il s'agit d'un produit, on n'initialise pas les probabilités à moins l'infini mais à 0, et au lieu de sommer dans l'algorithme, on applique la multiplication."
   ]
  },
  {
   "cell_type": "code",
   "execution_count": 609,
   "metadata": {},
   "outputs": [
    {
     "data": {
      "text/plain": [
       "Bellman_Ford_long_adapte (generic function with 1 method)"
      ]
     },
     "execution_count": 609,
     "metadata": {},
     "output_type": "execute_result"
    }
   ],
   "source": [
    "function Bellman_Ford_long_adapte(graph,sommets)\n",
    "    \n",
    "    for i in 2:length(sommets)\n",
    "        s = indexOf(sommets,sommets[i])\n",
    "        proba[s] = 0\n",
    "        predecesseurs[s] = sommets[1]\n",
    "    end\n",
    "    \n",
    "    source = indexOf(sommets,sommets[1])\n",
    "    proba[source] = 1.0\n",
    "    \n",
    "    cheminTilde = cheminSommets\n",
    "    \n",
    "    for k in 2:length(sommets)-1\n",
    "        for i_arc in 1:length(graph)\n",
    "            \n",
    "            s1 = graph[i_arc][1]\n",
    "            s2 = graph[i_arc][2]\n",
    "            i1 = indexOf(sommets,s1)\n",
    "            i2 = indexOf(sommets,s2)\n",
    "            poids = graph[i_arc][3]\n",
    "            \n",
    "            if proba[i1] * poids > proba[i2] \n",
    "                proba[i2] = proba[i1]*poids\n",
    "                cheminTilde[i2] = append!([s1],cheminSommets[i1])\n",
    "                predecesseurs[i2] = s1\n",
    "            end                \n",
    "        end       \n",
    "    end\n",
    "    \n",
    "    for i_arc in 1:length(graph)\n",
    "        s1 = graph[i_arc][1]\n",
    "        s2 = graph[i_arc][2]\n",
    "        i1 = indexOf(sommets,s1)\n",
    "        i2 = indexOf(sommets,s2)\n",
    "        poids = graph[i_arc][3]\n",
    "        if (proba[i2] < proba[i1] * poids) && (proba[i1] != 0)\n",
    "            println(\"--------------------------------------\")\n",
    "            println(\"Présence de cycle de poids négatif !\")           \n",
    "        end\n",
    "    end\n",
    "    \n",
    "    println(\"---------------------------------------------------------------\")\n",
    "    println(\"probabilité de sûrete en allant de S à F = \", proba[length(proba)])\n",
    "\n",
    "    println(\"---------------------------------------------------------------\")\n",
    "    println(\" \")\n",
    "    println(\"## Chemin de \",sommets[1], \" au sommet : \")\n",
    "    println(\" \")\n",
    "    \n",
    "    for k in 1:length(cheminSommets)\n",
    "        cheminTilde[k] = reverse(append!([sommets[k]],cheminTilde[k]))\n",
    "        println(sommets[k],  \"  |  \", cheminTilde[k] )\n",
    "        println(\"-------------------------------------------\")\n",
    "    end\n",
    "\n",
    "end"
   ]
  },
  {
   "cell_type": "code",
   "execution_count": 610,
   "metadata": {},
   "outputs": [
    {
     "data": {
      "text/plain": [
       "Bellman_Ford_adapte_lc (generic function with 1 method)"
      ]
     },
     "execution_count": 610,
     "metadata": {},
     "output_type": "execute_result"
    }
   ],
   "source": [
    "# Fonction adaptée qui calcule le plus long chemin (lc)\n",
    "function Bellman_Ford_adapte_lc(graph,sommets)\n",
    "    Bellman_Ford_long_adapte(graph,sommets)\n",
    "end"
   ]
  },
  {
   "cell_type": "markdown",
   "metadata": {},
   "source": [
    "### Test avec l'exemple du sujet"
   ]
  },
  {
   "cell_type": "code",
   "execution_count": 611,
   "metadata": {},
   "outputs": [
    {
     "name": "stdout",
     "output_type": "stream",
     "text": [
      "---------------------------------------------------------------\n",
      "probabilité de sûrete en allant de S à F = 0.9036365183999999\n",
      "---------------------------------------------------------------\n",
      " \n",
      "## Chemin de S au sommet : \n",
      " \n",
      "S  |  Any[\"S\"]\n",
      "-------------------------------------------\n",
      "S1  |  Any[\"S\", \"S1\"]\n",
      "-------------------------------------------\n",
      "S2  |  Any[\"S\", \"S2\"]\n",
      "-------------------------------------------\n",
      "S3  |  Any[\"S\", \"S3\"]\n",
      "-------------------------------------------\n",
      "A1  |  Any[\"S\", \"S1\", \"A1\"]\n",
      "-------------------------------------------\n",
      "A2  |  Any[\"S\", \"S2\", \"A2\"]\n",
      "-------------------------------------------\n",
      "A3  |  Any[\"S\", \"S2\", \"A3\"]\n",
      "-------------------------------------------\n",
      "A4  |  Any[\"S\", \"S3\", \"A4\"]\n",
      "-------------------------------------------\n",
      "D1  |  Any[\"S\", \"S1\", \"A1\", \"D1\"]\n",
      "-------------------------------------------\n",
      "D2  |  Any[\"S\", \"S2\", \"A3\", \"D2\"]\n",
      "-------------------------------------------\n",
      "FG  |  Any[\"S\", \"S1\", \"A1\", \"D1\", \"FG\"]\n",
      "-------------------------------------------\n",
      "FX  |  Any[\"S\", \"S2\", \"A3\", \"D2\", \"FX\"]\n",
      "-------------------------------------------\n",
      "F  |  Any[\"S\", \"S1\", \"A1\", \"D1\", \"FG\", \"F\"]\n",
      "-------------------------------------------\n",
      " \n",
      "Le procédé de fabrication le plus sûr est alors :\n",
      "**************************************************\n",
      "*                                                *\n",
      "*      Any[\"S\", \"S1\", \"A1\", \"D1\", \"FG\", \"F\"]     *\n",
      "*                                                *\n",
      "**************************************************\n"
     ]
    }
   ],
   "source": [
    "sommets = [\"S\",\"S1\",\"S2\",\"S3\",\"A1\",\"A2\",\"A3\",\"A4\",\"D1\",\"D2\",\"FG\",\"FX\",\"F\"]\n",
    "graph = [[\"S\",\"S1\",0.98],[\"S\",\"S2\",0.97],[\"S\",\"S3\",0.99],[\"S1\",\"A1\",0.96],[\"S1\",\"A2\",0.95],[\"S2\",\"A2\",0.97],[\"S2\",\"A3\",0.98],[\"S3\",\"A3\",0.95],[\"S3\",\"A4\",0.93],[\"A1\",\"D1\",0.99],[\"A2\",\"D1\",0.96],[\"A3\",\"D1\",0.97],[\"A3\",\"D2\",0.98],[\"A4\",\"D2\",0.99],[\"D1\",\"FG\",0.98],[\"D1\",\"FX\",0.99],[\"D2\",\"FG\",0.96],[\"D2\",\"FX\",0.99],[\"FG\",\"F\",0.99],[\"FX\",\"F\",0.93]]\n",
    "proba = [1.0, 1.0, 1.0, 1.0, 1.0, 1.0, 1.0, 1.0, 1.0, 1.0, 1.0, 1.0, 1.0]\n",
    "predecesseurs = [\"S\",\"S\",\"S\",\"S\",\"S\",\"S\",\"S\",\"S\",\"S\",\"S\",\"S\",\"S\",\"S\"]\n",
    "cheminSommets = [[],[],[],[],[],[],[],[],[],[],[],[],[]]\n",
    "Bellman_Ford_adapte_lc(graph,sommets)\n",
    "println(\" \")\n",
    "println(\"Le procédé de fabrication le plus sûr est alors :\")\n",
    "println(\"**************************************************\")\n",
    "println(\"*                                                *\")\n",
    "println(\"*      \",cheminSommets[length(cheminSommets)],\"     *\")\n",
    "println(\"*                                                *\")\n",
    "println(\"**************************************************\")"
   ]
  },
  {
   "cell_type": "markdown",
   "metadata": {},
   "source": [
    "### Remarque\n",
    "- Les chemins sûrs obtenus à chaque sommet sont les mêmes dans les deux cas.\n",
    "\n",
    "- Le procédé de fabrication le plus sûr est le même aussi.\n",
    "\n",
    "- La probabilité obtenue est compatible avec la valeur calculée (On multiplie toutes les probabilités dans le chemin le plus sûr , ie le plus chemin)."
   ]
  }
 ],
 "metadata": {
  "kernelspec": {
   "display_name": "Julia 1.5.2",
   "language": "julia",
   "name": "julia-1.5"
  },
  "language_info": {
   "file_extension": ".jl",
   "mimetype": "application/julia",
   "name": "julia",
   "version": "1.5.2"
  }
 },
 "nbformat": 4,
 "nbformat_minor": 4
}
