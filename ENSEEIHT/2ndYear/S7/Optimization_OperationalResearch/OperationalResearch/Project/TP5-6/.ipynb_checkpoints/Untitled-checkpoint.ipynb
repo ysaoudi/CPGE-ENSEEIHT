{
 "cells": [
  {
   "cell_type": "code",
   "execution_count": null,
   "metadata": {},
   "outputs": [],
   "source": []
  },
  {
   "cell_type": "code",
   "execution_count": 1,
   "metadata": {},
   "outputs": [
    {
     "name": "stderr",
     "output_type": "stream",
     "text": [
      "\u001b[32m\u001b[1m   Updating\u001b[22m\u001b[39m registry at `~/.julia/registries/General`\n",
      "######################################################################### 100,0%\n",
      "\u001b[32m\u001b[1m  Resolving\u001b[22m\u001b[39m package versions...\n",
      "\u001b[32m\u001b[1mNo Changes\u001b[22m\u001b[39m to `~/.julia/environments/v1.5/Project.toml`\n",
      "\u001b[32m\u001b[1mNo Changes\u001b[22m\u001b[39m to `~/.julia/environments/v1.5/Manifest.toml`\n",
      "\u001b[32m\u001b[1m  Resolving\u001b[22m\u001b[39m package versions...\n",
      "\u001b[32m\u001b[1mNo Changes\u001b[22m\u001b[39m to `~/.julia/environments/v1.5/Project.toml`\n",
      "\u001b[32m\u001b[1mNo Changes\u001b[22m\u001b[39m to `~/.julia/environments/v1.5/Manifest.toml`\n"
     ]
    }
   ],
   "source": [
    "#importer les packages utiles, le manager de package Pkg etant un package\n",
    "import Pkg; Pkg.add(\"Cbc\")\n",
    "Pkg.add(\"JuMP\")"
   ]
  },
  {
   "cell_type": "code",
   "execution_count": null,
   "metadata": {},
   "outputs": [],
   "source": []
  },
  {
   "cell_type": "code",
   "execution_count": 2,
   "metadata": {},
   "outputs": [
    {
     "data": {
      "text/plain": [
       "Bellman_Ford_long (generic function with 1 method)"
      ]
     },
     "execution_count": 2,
     "metadata": {},
     "output_type": "execute_result"
    }
   ],
   "source": [
    "function indexOf(sommets,s)\n",
    "    for i in 1:length(sommets)\n",
    "        if sommets[i] == s\n",
    "            return i\n",
    "        end\n",
    "    end\n",
    "end\n",
    "\n",
    "function Bellman_Ford_long(graph,sommets)\n",
    "    \n",
    "    for i in 2:length(sommets)\n",
    "        s = indexOf(sommets,sommets[i])\n",
    "        distance[s] = -typemax(Int64)  ## On prend -infini au lieu de +infini\n",
    "        predecesseurs[s] = sommets[1]\n",
    "    end\n",
    "    \n",
    "    source = indexOf(sommets,sommets[1])\n",
    "    distance[source] = 0.0\n",
    "    \n",
    "    cheminTilde = cheminSommets\n",
    "    \n",
    "    for k in 2:length(sommets)-1\n",
    "        for i_arc in 1:length(graph)\n",
    "            \n",
    "            s1 = graph[i_arc][1]\n",
    "            s2 = graph[i_arc][2]\n",
    "            i1 = indexOf(sommets,s1)\n",
    "            i2 = indexOf(sommets,s2)\n",
    "            poids = graph[i_arc][3]\n",
    "            \n",
    "            if distance[i1] + poids > distance[i2] ## on inverse le sens de comparaison\n",
    "                distance[i2] = distance[i1] + poids\n",
    "                cheminTilde[i2] = append!([s1],cheminSommets[i1])\n",
    "                predecesseurs[i2] = s1\n",
    "            end                \n",
    "        end       \n",
    "    end\n",
    "    \n",
    "    for i_arc in 1:length(graph)\n",
    "        s1 = graph[i_arc][1]\n",
    "        s2 = graph[i_arc][2]\n",
    "        i1 = indexOf(sommets,s1)\n",
    "        i2 = indexOf(sommets,s2)\n",
    "        poids = graph[i_arc][3]\n",
    "        if (distance[i2] < distance[i1] + poids) && (distance[i1] != typemax(Int64))\n",
    "            println(\"--------------------------------------\")\n",
    "            println(\"Présence de cycle de poids négatif !\")           \n",
    "        end\n",
    "    end\n",
    "    \n",
    "    println(\"--------------------------------------\")\n",
    "    println(\"distance = \", distance)\n",
    "    println(\"--------------------------------------\")\n",
    "    println(\"predecesseurs = \", predecesseurs)\n",
    "    println(\"--------------------------------------\")\n",
    "    println(\"Chemin de \",sommets[1], \" au sommet : \")\n",
    "    println(\" \")\n",
    "    \n",
    "    for k in 1:length(cheminSommets)\n",
    "        cheminTilde[k] = reverse(append!([sommets[k]],cheminTilde[k]))\n",
    "        println(sommets[k],  \"  |  \", cheminTilde[k] )\n",
    "        println(\"_______________________________\")\n",
    "    end\n",
    "\n",
    "end\n",
    "\n"
   ]
  },
  {
   "cell_type": "code",
   "execution_count": 3,
   "metadata": {},
   "outputs": [
    {
     "name": "stdout",
     "output_type": "stream",
     "text": [
      "--------------------------------------\n",
      "distance = [0, 2, 2, 5, 3, 9]\n",
      "--------------------------------------\n",
      "predecesseurs = ['A', 'A', 'A', 'B', 'C', 'D']\n",
      "--------------------------------------\n",
      "Chemin de A au sommet : \n",
      " \n",
      "A  |  Any['A']\n",
      "_______________________________\n",
      "B  |  Any['A', 'B']\n",
      "_______________________________\n",
      "C  |  Any['A', 'C']\n",
      "_______________________________\n",
      "D  |  Any['A', 'B', 'D']\n",
      "_______________________________\n",
      "E  |  Any['A', 'C', 'E']\n",
      "_______________________________\n",
      "F  |  Any['A', 'B', 'D', 'F']\n",
      "_______________________________\n"
     ]
    }
   ],
   "source": [
    "sommets = ['A', 'B', 'C', 'D', 'E','F'] # La source est le premier élément de sommets\n",
    "graph = [('A', 'B', 2), ('A', 'C', 2), ('B', 'D', 3), ('C', 'D', 1), ('C', 'E', 1), ('E', 'F', 1), ('D', 'F', 4)] \n",
    "distance = [0, 0, 0, 0, 0, 0]\n",
    "predecesseurs = ['A', 'A', 'A', 'A', 'A', 'A']\n",
    "cheminSommets = [[],[],[],[],[],[]]\n",
    "Bellman_Ford_long(graph,sommets)"
   ]
  },
  {
   "cell_type": "code",
   "execution_count": null,
   "metadata": {},
   "outputs": [],
   "source": []
  },
  {
   "cell_type": "code",
   "execution_count": 4,
   "metadata": {},
   "outputs": [
    {
     "data": {
      "text/plain": [
       "Bellman_Ford (generic function with 1 method)"
      ]
     },
     "execution_count": 4,
     "metadata": {},
     "output_type": "execute_result"
    }
   ],
   "source": [
    "function indexOf(sommets,s)\n",
    "    for i in 1:length(sommets)\n",
    "        if sommets[i] == s\n",
    "            return i\n",
    "        end\n",
    "    end\n",
    "end\n",
    "\n",
    "function Bellman_Ford(graph,sommets,signe)\n",
    "    \n",
    "    for i in 2:length(sommets)\n",
    "        s = indexOf(sommets,sommets[i])\n",
    "        distance[s] = typemax(Int64)\n",
    "        predecesseurs[s] = sommets[1]\n",
    "    end\n",
    "    \n",
    "    source = indexOf(sommets,sommets[1])\n",
    "    distance[source] = 0.0\n",
    "    \n",
    "    cheminTilde = cheminSommets\n",
    "    \n",
    "    for k in 2:length(sommets)-1\n",
    "        for i_arc in 1:length(graph)\n",
    "            \n",
    "            s1 = graph[i_arc][1]\n",
    "            s2 = graph[i_arc][2]\n",
    "            i1 = indexOf(sommets,s1)\n",
    "            i2 = indexOf(sommets,s2)\n",
    "            poids = signe(graph[i_arc][3])\n",
    "            \n",
    "            if distance[i1] + poids < distance[i2] \n",
    "                distance[i2] = distance[i1] + poids\n",
    "                cheminTilde[i2] = append!([s1],cheminSommets[i1])\n",
    "                predecesseurs[i2] = s1\n",
    "            end                \n",
    "        end       \n",
    "    end\n",
    "    \n",
    "    for i_arc in 1:length(graph)\n",
    "        s1 = graph[i_arc][1]\n",
    "        s2 = graph[i_arc][2]\n",
    "        i1 = indexOf(sommets,s1)\n",
    "        i2 = indexOf(sommets,s2)\n",
    "        poids = signe(graph[i_arc][3])\n",
    "        if (distance[i2] > distance[i1] + poids) && (distance[i1] != typemax(Int64))\n",
    "            println(\"--------------------------------------\")\n",
    "            println(\"Présence de cycle de poids négatif !\")           \n",
    "        end\n",
    "    end\n",
    "    \n",
    "    println(\"--------------------------------------\")\n",
    "    println(\"distance = \", signe(distance))\n",
    "    println(\"--------------------------------------\")\n",
    "    println(\"predecesseurs = \", predecesseurs)\n",
    "    println(\"--------------------------------------\")\n",
    "    println(\"Chemin de \",sommets[1], \" au sommet : \")\n",
    "    println(\" \")\n",
    "    \n",
    "    for k in 1:length(cheminSommets)\n",
    "        cheminTilde[k] = reverse(append!([sommets[k]],cheminTilde[k]))\n",
    "        println(sommets[k],  \"  |  \", cheminTilde[k] )\n",
    "        println(\"_______________________________\")\n",
    "    end\n",
    "\n",
    "end\n",
    "\n"
   ]
  },
  {
   "cell_type": "code",
   "execution_count": 5,
   "metadata": {},
   "outputs": [
    {
     "data": {
      "text/plain": [
       "Bellman_Ford_lc (generic function with 1 method)"
      ]
     },
     "execution_count": 5,
     "metadata": {},
     "output_type": "execute_result"
    }
   ],
   "source": [
    "# Fonction qui calcule le plus long chemin (lc)\n",
    "function Bellman_Ford_lc(graph,sommets)\n",
    "    Bellman_Ford(graph,sommets,-)\n",
    "end"
   ]
  },
  {
   "cell_type": "code",
   "execution_count": 6,
   "metadata": {},
   "outputs": [
    {
     "name": "stdout",
     "output_type": "stream",
     "text": [
      "--------------------------------------\n",
      "distance = [0, 2, 2, 5, 3, 9]\n",
      "--------------------------------------\n",
      "predecesseurs = ['A', 'A', 'A', 'B', 'C', 'D']\n",
      "--------------------------------------\n",
      "Chemin de A au sommet : \n",
      " \n",
      "A  |  Any['A']\n",
      "_______________________________\n",
      "B  |  Any['A', 'B']\n",
      "_______________________________\n",
      "C  |  Any['A', 'C']\n",
      "_______________________________\n",
      "D  |  Any['A', 'B', 'D']\n",
      "_______________________________\n",
      "E  |  Any['A', 'C', 'E']\n",
      "_______________________________\n",
      "F  |  Any['A', 'B', 'D', 'F']\n",
      "_______________________________\n"
     ]
    }
   ],
   "source": []
  },
  {
   "cell_type": "code",
   "execution_count": null,
   "metadata": {},
   "outputs": [],
   "source": []
  }
 ],
 "metadata": {
  "kernelspec": {
   "display_name": "Julia 1.5.2",
   "language": "julia",
   "name": "julia-1.5"
  },
  "language_info": {
   "file_extension": ".jl",
   "mimetype": "application/julia",
   "name": "julia",
   "version": "1.5.2"
  }
 },
 "nbformat": 4,
 "nbformat_minor": 4
}
