{
 "cells": [
  {
   "cell_type": "markdown",
   "metadata": {},
   "source": [
    "<center>\n",
    "<h1> Recherche Opérationnelle : TP 5 et 6 </h1>\n",
    "<h1> Année 2020-2021 - 2e année département Sciences du Numérique </h1>\n",
    "<h1> Hajji Manal</h1>\n",
    "<h1> Youness Saaoudi </h1>    \n",
    "</center>"
   ]
  },
  {
   "cell_type": "code",
   "execution_count": 9,
   "metadata": {},
   "outputs": [
    {
     "name": "stderr",
     "output_type": "stream",
     "text": [
      "\u001b[32m\u001b[1m  Resolving\u001b[22m\u001b[39m package versions...\n",
      "\u001b[32m\u001b[1mNo Changes\u001b[22m\u001b[39m to `~/.julia/environments/v1.5/Project.toml`\n",
      "\u001b[32m\u001b[1mNo Changes\u001b[22m\u001b[39m to `~/.julia/environments/v1.5/Manifest.toml`\n",
      "\u001b[32m\u001b[1m  Resolving\u001b[22m\u001b[39m package versions...\n",
      "\u001b[32m\u001b[1mNo Changes\u001b[22m\u001b[39m to `~/.julia/environments/v1.5/Project.toml`\n",
      "\u001b[32m\u001b[1mNo Changes\u001b[22m\u001b[39m to `~/.julia/environments/v1.5/Manifest.toml`\n",
      "\u001b[32m\u001b[1m  Resolving\u001b[22m\u001b[39m package versions...\n",
      "\u001b[32m\u001b[1mNo Changes\u001b[22m\u001b[39m to `~/.julia/environments/v1.5/Project.toml`\n",
      "\u001b[32m\u001b[1mNo Changes\u001b[22m\u001b[39m to `~/.julia/environments/v1.5/Manifest.toml`\n"
     ]
    }
   ],
   "source": [
    "#importer les packages utiles, le manager de package Pkg etant un package\n",
    "import Pkg; Pkg.add(\"Cbc\")\n",
    "Pkg.add(\"Clp\")\n",
    "Pkg.add(\"JuMP\")"
   ]
  },
  {
   "cell_type": "markdown",
   "metadata": {},
   "source": [
    "## 1   Prise en main : ordonnancement avec contraintes de précédence\n",
    "\n",
    "Soit un ensemble de tâchesT, l’objectif est de déterminer les dates d’exécutionde chaque tâche de manière à minimiser la durée totale d’exécution tout en respectant les durées etles contraintes de précédence entre les tâches.\n",
    "\n",
    "###    1.1  Modélisation classique par programmation linéaire\n",
    "Variables de décision :\n",
    "- $t_{i}$ ∈ $R^{+}$, ∀ i ∈ T : date de début de la tâche i\n",
    "- $t_{fin}$ ∈ $R^{+}$ : date de fin du projet\n",
    "- Le programme linéaire résultant donne :  \n",
    "Solution PL:  \n",
    " \t t=[0.0, 2.0, 2.0, 5.0, 8.0]\t tfin=9.0\n",
    "     \n",
    "###   1.2  Modélisation classique par graphe potentiel-tâche\n",
    "Application de l'algorithme de calcul de plus long chemin issu du TP3-4 sur le graphe potentiel-tâche."
   ]
  },
  {
   "cell_type": "code",
   "execution_count": 45,
   "metadata": {},
   "outputs": [
    {
     "data": {
      "text/plain": [
       "Bellman_Ford_long (generic function with 2 methods)"
      ]
     },
     "execution_count": 45,
     "metadata": {},
     "output_type": "execute_result"
    }
   ],
   "source": [
    "function indexOf(sommets,s)\n",
    "    for i in 1:length(sommets)\n",
    "        if sommets[i] == s\n",
    "            return i\n",
    "        end\n",
    "    end\n",
    "end\n",
    "\n",
    "function Bellman_Ford_long(graph,sommets)\n",
    "    \n",
    "    for i in 2:length(sommets)\n",
    "        s = indexOf(sommets,sommets[i])\n",
    "        distance[s] = -typemax(Int64)  ## On prend -infini au lieu de +infini\n",
    "        predecesseurs[s] = sommets[1]\n",
    "    end\n",
    "    \n",
    "    source = indexOf(sommets,sommets[1])\n",
    "    distance[source] = 0.0\n",
    "    \n",
    "    cheminTilde = cheminSommets\n",
    "    \n",
    "    for k in 2:length(sommets)-1\n",
    "        for i_arc in 1:length(graph)\n",
    "            \n",
    "            s1 = graph[i_arc][1]\n",
    "            s2 = graph[i_arc][2]\n",
    "            i1 = indexOf(sommets,s1)\n",
    "            i2 = indexOf(sommets,s2)\n",
    "            poids = graph[i_arc][3]\n",
    "            \n",
    "            if distance[i1] + poids > distance[i2] ## on inverse le sens de comparaison\n",
    "                distance[i2] = distance[i1] + poids\n",
    "                cheminTilde[i2] = append!([s1],cheminSommets[i1])\n",
    "                predecesseurs[i2] = s1\n",
    "            end                \n",
    "        end       \n",
    "    end\n",
    "    \n",
    "    for i_arc in 1:length(graph)\n",
    "        s1 = graph[i_arc][1]\n",
    "        s2 = graph[i_arc][2]\n",
    "        i1 = indexOf(sommets,s1)\n",
    "        i2 = indexOf(sommets,s2)\n",
    "        poids = graph[i_arc][3]\n",
    "        if (distance[i2] < distance[i1] + poids) && (distance[i1] != typemax(Int64))\n",
    "            println(\"--------------------------------------\")\n",
    "            println(\"Présence de cycle de poids négatif !\")           \n",
    "        end\n",
    "    end\n",
    "    \n",
    "    println(\"--------------------------------------\")\n",
    "    println(\"temps = \", distance)\n",
    "    println(\"--------------------------------------\")\n",
    "    println(\"predecesseurs = \", predecesseurs)\n",
    "    println(\"--------------------------------------\")\n",
    "    println(\"Chemin de \",sommets[1], \" au sommet : \")\n",
    "    println(\" \")\n",
    "    \n",
    "    for k in 1:length(cheminSommets)\n",
    "        cheminTilde[k] = reverse(append!([sommets[k]],cheminTilde[k]))\n",
    "        println(sommets[k],  \"  |  \", cheminTilde[k] )\n",
    "        println(\"_______________________________\")\n",
    "    end\n",
    "end\n",
    "\n"
   ]
  },
  {
   "cell_type": "code",
   "execution_count": 46,
   "metadata": {},
   "outputs": [
    {
     "name": "stdout",
     "output_type": "stream",
     "text": [
      "--------------------------------------\n",
      "temps = [0, 2, 2, 5, 3, 9]\n",
      "--------------------------------------\n",
      "predecesseurs = ['A', 'A', 'A', 'B', 'C', 'D']\n",
      "--------------------------------------\n",
      "Chemin de A au sommet : \n",
      " \n",
      "A  |  Any['A']\n",
      "_______________________________\n",
      "B  |  Any['A', 'B']\n",
      "_______________________________\n",
      "C  |  Any['A', 'C']\n",
      "_______________________________\n",
      "D  |  Any['A', 'B', 'D']\n",
      "_______________________________\n",
      "E  |  Any['A', 'C', 'E']\n",
      "_______________________________\n",
      "F  |  Any['A', 'B', 'D', 'F']\n",
      "_______________________________\n"
     ]
    }
   ],
   "source": [
    "sommets = ['A', 'B', 'C', 'D', 'E','F'] # La source est le premier élément de sommets\n",
    "graph = [('A', 'B', 2), ('A', 'C', 2), ('B', 'D', 3), ('C', 'D', 1), ('C', 'E', 1), ('E', 'F', 1), ('D', 'F', 4)] \n",
    "distance = [0, 0, 0, 0, 0, 0]\n",
    "predecesseurs = ['A', 'A', 'A', 'A', 'A', 'A']\n",
    "cheminSommets = [[],[],[],[],[],[]]\n",
    "Bellman_Ford_long(graph,sommets)"
   ]
  },
  {
   "cell_type": "markdown",
   "metadata": {},
   "source": [
    "### Comparaison la solution obtenue avec celle du programme linéaire\n",
    "- On observe que la date de fin obtenu par les deux programmes est la même et elle vaut 9.\n",
    "- Pour la tâche E, on s'aperçoit que dans le résultat du programme linéaire, la durée est estimée de 8 alors que dans le programme du plus long chemin la durée est de 3. Cela revient au fait que dans le premier programme, si on modélise le problème sous forme de graphe, on passe necéssairement par tous les sommets tout en respectant les contraintes, tandis que dans le deuxieme, on a atteint l'état final sans passer par E. L'algorithme du chemin le plus long ne prend pas alors en compte l'obligation de passer par tous les sommets, il ne respecte pas les durées et les contraintes de précédence entre les tâches."
   ]
  },
  {
   "cell_type": "markdown",
   "metadata": {},
   "source": [
    "# 2  Job-shop : ordonnancement avec contraintes de précédence et contraintes de ressources\n",
    "Planification d'un ensemble de travaux pour minimiser la durée totale d’exécution tout en respectant des contraintes de précédence et de ressources.\n",
    "## Ce travail contient : \n",
    "* L'exercice 2.1 qui modélise la relaxation des ressources\n",
    "* L'ensemble des blocs nécessaires à l'élaboration de la résolution du PSE par relaxation linéaire et PL (donné)\n",
    "* Un ensemble de programmes annexes (cf détail TP 3 & 4).\n",
    "* L'algorithme de BellmanFord qui utilise des programmes annexes.\n",
    "* La résolution du PSE par graphes disjonctifs\n",
    "* Une conclusion générale de la deuxième partie\n",
    "### 2.1  Relaxation des contraintes de ressources\n",
    "# Construire et résoudre le programme linéaire et le graphe potentiel-tâche associés aux données duTableau2(a) pour (R). !!!??"
   ]
  },
  {
   "cell_type": "code",
   "execution_count": 25,
   "metadata": {},
   "outputs": [
    {
     "data": {
      "text/plain": [
       "22"
      ]
     },
     "execution_count": 25,
     "metadata": {},
     "output_type": "execute_result"
    }
   ],
   "source": [
    "MachinesParJob=[1 3 0; 1 2 3]\n",
    "Duree=[6 7 0; 3 5 1]\n",
    "bigM=sum(Duree)"
   ]
  },
  {
   "cell_type": "code",
   "execution_count": 12,
   "metadata": {},
   "outputs": [
    {
     "data": {
      "text/plain": [
       "3×2 LinearAlgebra.Transpose{Int64,Array{Int64,2}}:\n",
       " 6  3\n",
       " 7  5\n",
       " 0  1"
      ]
     },
     "execution_count": 12,
     "metadata": {},
     "output_type": "execute_result"
    }
   ],
   "source": [
    "# 2.1 Relaxation des contraintes de ressources\n",
    "D = transpose([6 7 0; 3 5 1])"
   ]
  },
  {
   "cell_type": "markdown",
   "metadata": {},
   "source": [
    "En ignorant les contraintes des ressources du Jopshop, on se ramène à un problème d'ordonnancement simple, c'est-à -dire minimiser 𝑡𝑓𝑖𝑛 sous contraintes d'ordonnancement des tâches 𝑡𝑖."
   ]
  },
  {
   "cell_type": "markdown",
   "metadata": {},
   "source": [
    "### Graphe potentiel-tâche\n",
    "<img src=\"graph.png\">"
   ]
  },
  {
   "cell_type": "markdown",
   "metadata": {},
   "source": [
    "### Construction du modèle linéaire"
   ]
  },
  {
   "cell_type": "code",
   "execution_count": 47,
   "metadata": {},
   "outputs": [
    {
     "name": "stdout",
     "output_type": "stream",
     "text": [
      "Min tfin1 + tfin2\n",
      "Subject to\n",
      " -t[1,1] + t[2,1] ≥ 6.0\n",
      " -t[2,1] + t[3,1] ≥ 7.0\n",
      " -t[1,2] + t[2,2] ≥ 3.0\n",
      " -t[2,2] + t[3,2] ≥ 5.0\n",
      " -t[3,1] + tfin1 ≥ 0.0\n",
      " -t[3,2] + tfin2 ≥ 1.0\n",
      " t[1,1] ≥ 0.0\n",
      " t[2,1] ≥ 0.0\n",
      " t[3,1] ≥ 0.0\n",
      " t[1,2] ≥ 0.0\n",
      " t[2,2] ≥ 0.0\n",
      " t[3,2] ≥ 0.0\n",
      "\n",
      "start solve ... ... end solve\n",
      "\n",
      "Solution PL:\n",
      " \t t=[0.0 0.0; 6.0 3.0; 13.0 8.0]\t tfin=13.0\n"
     ]
    }
   ],
   "source": [
    "using JuMP\n",
    "using Clp\n",
    "\n",
    "model = Model(Clp.Optimizer) # set optimizer\n",
    "set_optimizer_attribute(model, \"LogLevel\", 0) #don't display anything during solve\n",
    "set_optimizer_attribute(model, \"Algorithm\", 4) #LP solver chosen is simplex\n",
    "\n",
    "\n",
    "# define t variables\n",
    "@variable(model, t[i in 1:3, j in 1:2] >= 0)\n",
    "@variable(model, tfin1)\n",
    "@variable(model, tfin2)\n",
    "\n",
    "\n",
    "# define objective function\n",
    "@objective(model, Min, tfin1+tfin2)\n",
    "\n",
    "# define constraints: \n",
    "@constraint(model, t[2,1] - t[1,1] >= D[1,1] )\n",
    "@constraint(model, t[3,1] - t[2,1] >= D[2,1] )\n",
    "@constraint(model, t[2,2] - t[1,2] >= D[1,2] )\n",
    "@constraint(model, t[3,2] - t[2,2] >= D[2,2] )\n",
    "\n",
    "\n",
    "#define constraints: \n",
    "@constraint(model, tfin1 - t[3,1] >= D[3,1] )\n",
    "@constraint(model, tfin2 - t[3,2] >= D[3,2] )\n",
    "\n",
    "println(model)\n",
    "\n",
    "print(\"start solve ... \")\n",
    "optimize!(model)\n",
    "print(\"... end solve\")\n",
    "\n",
    "\n",
    "println(\"\\n\\nSolution PL:\\n \\t t=\", value.(t), \"\\t tfin=\", max(value(tfin1),value(tfin2)))\n"
   ]
  },
  {
   "cell_type": "markdown",
   "metadata": {},
   "source": [
    "### Résolution en appliquant Bellman Ford"
   ]
  },
  {
   "cell_type": "code",
   "execution_count": 50,
   "metadata": {},
   "outputs": [
    {
     "name": "stdout",
     "output_type": "stream",
     "text": [
      "--------------------------------------\n",
      "temps = [0, 0, 6, 13, 0, 3, 8, 13]\n",
      "--------------------------------------\n",
      "predecesseurs = [\"D\", \"D\", \"A1\", \"A2\", \"D\", \"B1\", \"B2\", \"A3\"]\n",
      "--------------------------------------\n",
      "Chemin de D au sommet : \n",
      " \n",
      "D  |  Any[\"D\"]\n",
      "_______________________________\n",
      "A1  |  Any[\"D\", \"A1\"]\n",
      "_______________________________\n",
      "A2  |  Any[\"D\", \"A1\", \"A2\"]\n",
      "_______________________________\n",
      "A3  |  Any[\"D\", \"A1\", \"A2\", \"A3\"]\n",
      "_______________________________\n",
      "B1  |  Any[\"D\", \"B1\"]\n",
      "_______________________________\n",
      "B2  |  Any[\"D\", \"B1\", \"B2\"]\n",
      "_______________________________\n",
      "B3  |  Any[\"D\", \"B1\", \"B2\", \"B3\"]\n",
      "_______________________________\n",
      "F  |  Any[\"D\", \"A1\", \"A2\", \"A3\", \"F\"]\n",
      "_______________________________\n"
     ]
    }
   ],
   "source": [
    "sommets = [\"D\", \"A1\", \"A2\", \"A3\", \"B1\",\"B2\",\"B3\",\"F\"] # La source est le premier élément de sommets\n",
    "graph = [(\"D\", \"A1\", 0), (\"D\", \"B1\", 0), (\"A1\", \"A2\",6), (\"A2\",\"A3\",7), (\"A3\", \"F\",0), (\"B1\", \"B2\",3), (\"B2\", \"B3\",5),(\"B3\",\"F\",1)] \n",
    "distance = [0, 0, 0, 0, 0, 0, 0, 0]\n",
    "predecesseurs = [\"D\", \"D\", \"D\", \"D\", \"D\", \"D\", \"D\", \"D\"]\n",
    "cheminSommets = [[],[],[],[],[],[],[],[]]\n",
    "Bellman_Ford_long(graph,sommets)"
   ]
  },
  {
   "cell_type": "markdown",
   "metadata": {},
   "source": [
    "#### Montrer que la solution obtenue ne respecte pas les contraintes du Tableau :  \n",
    "\n",
    "On remarque dans la liste temps que A1 et B1 se déclenchent en même temps, A2 s'exécute après 6h et B2 après 3 heures. Or A1 et B1 utilisent la même machine. Ce qui montre que la solution obtenue ne respecte pas les contraintes du Tableau 2(b)\n"
   ]
  },
  {
   "cell_type": "markdown",
   "metadata": {},
   "source": [
    "### Problème avec précédences et ressources disjonctives\n",
    "Initialization (à faire une seule fois)"
   ]
  },
  {
   "cell_type": "markdown",
   "metadata": {},
   "source": [
    "### Procédure d'application des tests de sondabilités TA, TO et TR pour le cas de la relaxation linéaire"
   ]
  },
  {
   "cell_type": "code",
   "execution_count": 26,
   "metadata": {},
   "outputs": [
    {
     "data": {
      "text/plain": [
       "TestsSondabilite_relaxlin (generic function with 1 method)"
      ]
     },
     "execution_count": 26,
     "metadata": {},
     "output_type": "execute_result"
    }
   ],
   "source": [
    "function TestsSondabilite_relaxlin(model2, varsbin, BestTfin, Bestsol)\n",
    "    TA, TO, TR = false, false, false\n",
    "    if(termination_status(model2) == MOI.INFEASIBLE)#Test de faisabilite\n",
    "        TA=true\n",
    "        println(\"TA\")\n",
    "    elseif(objective_value(model2) >= BestTfin) #Test d'optimalite\n",
    "        TO=true\n",
    "        println(\"TO\")\n",
    "    elseif( prod(abs.([round.(v, digits=0) for v in value.(varsbin)]-value.(varsbin)) .<= fill(10^-5, size(varsbin))) \n",
    "        ) #Test de resolution\n",
    "        TR=true\n",
    "        println(\"TR\")\n",
    "        if (value(tfin) <= BestTfin)\n",
    "            Bestsol = value.(t)\n",
    "            BestTfin=value(tfin)\n",
    "        end\n",
    "    else\n",
    "        println(\"non sondable\")\n",
    "    end\n",
    "    TA, TO, TR, Bestsol, BestTfin\n",
    "end"
   ]
  },
  {
   "cell_type": "markdown",
   "metadata": {},
   "source": [
    "### Procédure de séparation et stratégie d'exploration permettant de se placer au prochain noeud à traiter"
   ]
  },
  {
   "cell_type": "code",
   "execution_count": null,
   "metadata": {},
   "outputs": [],
   "source": []
  },
  {
   "cell_type": "code",
   "execution_count": 27,
   "metadata": {},
   "outputs": [
    {
     "data": {
      "text/plain": [
       "ExplorerAutreNoeud_relaxlin (generic function with 1 method)"
      ]
     },
     "execution_count": 27,
     "metadata": {},
     "output_type": "execute_result"
    }
   ],
   "source": [
    "\n",
    "function SeparerNoeud_relaxlin(varsshouldbebinary, listvars, listvals)\n",
    "    # le noeud est non-sondable. Appliquer le critère de séparation pour le séparer en sous-noeuds \n",
    "    # et choisir un noeud-fils le plus à gauche   \n",
    "    \n",
    "    #find a fractionnal variable\n",
    "    i, var = 1, 0\n",
    "    while((i <= length(varsshouldbebinary)) && (var==0))\n",
    "        #if(varsshouldbebinary[i] ∉ listvars)\n",
    "        if(abs(round(value(varsshouldbebinary[i]), digits=0) - value(varsshouldbebinary[i]) ) >= 10^-5)\n",
    "            var=varsshouldbebinary[i]\n",
    "        end\n",
    "        i+=1\n",
    "    end\n",
    "    \n",
    "    #=\n",
    "    #find most fractionnal variable\n",
    "    i, var, maxfrac = -1, 0, 0.0\n",
    "    for i in 1:length(varsshouldbebinary)\n",
    "        if(abs(round(value(varsshouldbebinary[i]), digits=0) - value(varsshouldbebinary[i]) ) >= maxfrac) \n",
    "            #if a variable is more fractinonal\n",
    "            var=varsshouldbebinary[i]\n",
    "            maxfrac=abs(round(value(varsshouldbebinary[i]), digits=0) - value(varsshouldbebinary[i]) )\n",
    "            #println(i, \" \", var, \" \", maxfrac)\n",
    "        end\n",
    "    end\n",
    "    =#\n",
    "    \n",
    "\n",
    "    set_lower_bound(var,1.0)\n",
    "    set_upper_bound(var,1.0)\n",
    "\n",
    "    push!(listvars,var) #stocker l'identite de la variable choisie pour la séparation\n",
    "    push!(listvals,1.0) #stocker la branche choisie, identifiee par la valeur de la variable choisie\n",
    "    listvars, listvals\n",
    "end\n",
    "\n",
    "\n",
    "function ExplorerAutreNoeud_relaxlin(listvars, listvals)\n",
    "    #this node is sondable, go back to parent node then right child if possible\n",
    "    \n",
    "    stop=false\n",
    "    #go back to parent node\n",
    "    var=pop!(listvars)\n",
    "    theval=pop!(listvals)\n",
    "    set_lower_bound(var,0.0)\n",
    "    set_upper_bound(var,1.0)\n",
    "\n",
    "    #go to right child if possible, otherwise go back to parent\n",
    "    while( (theval==0.0) && (length(listvars)>= 1))\n",
    "        var=pop!(listvars)\n",
    "        theval=pop!(listvals)\n",
    "        set_lower_bound(var,0.0) \n",
    "        set_upper_bound(var,1.0)\n",
    "    end\n",
    "    if theval==1.0\n",
    "        set_lower_bound(var,0.0)\n",
    "        set_upper_bound(var,0.0)\n",
    "        push!(listvars,var)\n",
    "        push!(listvals,0.0)\n",
    "    else\n",
    "        println(\"\\nFINISHED\")\n",
    "        stop=true\n",
    "    end\n",
    "    listvars, listvals, stop \n",
    "end"
   ]
  },
  {
   "cell_type": "markdown",
   "metadata": {},
   "source": [
    "### Creation de la relaxation linéaire (= modèle associé au noeud 0)"
   ]
  },
  {
   "cell_type": "code",
   "execution_count": 28,
   "metadata": {},
   "outputs": [
    {
     "name": "stdout",
     "output_type": "stream",
     "text": [
      "Min tfin\n",
      "Subject to\n",
      " -t[1,1] + t[1,2] ≥ 6.0\n",
      " -t[1,2] + t[1,3] ≥ 7.0\n",
      " -t[2,1] + t[2,2] ≥ 3.0\n",
      " -t[2,2] + t[2,3] ≥ 5.0\n",
      " -t[1,3] + tfin ≥ 0.0\n",
      " -t[2,3] + tfin ≥ 1.0\n",
      " -t[1,1] + t[2,1] + 22 x_2_1__1_1 ≥ 6.0\n",
      " t[1,1] - t[2,1] - 22 x_2_1__1_1 ≥ -19.0\n",
      " -t[1,2] + t[2,3] + 22 x_2_3__1_2 ≥ 7.0\n",
      " t[1,2] - t[2,3] - 22 x_2_3__1_2 ≥ -21.0\n",
      " t[1,1] ≥ 0.0\n",
      " t[2,1] ≥ 0.0\n",
      " t[1,2] ≥ 0.0\n",
      " t[2,2] ≥ 0.0\n",
      " t[1,3] ≥ 0.0\n",
      " t[2,3] ≥ 0.0\n",
      " x_2_1__1_1 ≥ 0.0\n",
      " x_2_3__1_2 ≥ 0.0\n",
      " x_2_1__1_1 ≤ 1.0\n",
      " x_2_3__1_2 ≤ 1.0\n",
      "\n"
     ]
    }
   ],
   "source": [
    "# ROOT NODE\n",
    "using JuMP\n",
    "using Clp\n",
    "\n",
    "model2 = Model(Clp.Optimizer) # set optimizer\n",
    "set_optimizer_attribute(model2, \"LogLevel\", 0) #don't display anything during solve\n",
    "set_optimizer_attribute(model2, \"Algorithm\", 4) #LP solver chosen is simplex\n",
    "\n",
    "# define t variables\n",
    "@variable(model2, t[i in 1:2, j in 1:3] >= 0)\n",
    "@variable(model2, tfin)\n",
    "\n",
    "# define objective function\n",
    "@objective(model2, Min, tfin)\n",
    "\n",
    "# define constraints: t_i(j+1) - t_ij  >= Duree[i,j], \\forall i,j\n",
    "@constraint(model2, t[1,2] - t[1,1] >= Duree[1,1] )\n",
    "@constraint(model2, t[1,3] - t[1,2] >= Duree[1,2] )\n",
    "@constraint(model2, t[2,2] - t[2,1] >= Duree[2,1] )\n",
    "@constraint(model2, t[2,3] - t[2,2] >= Duree[2,2] )\n",
    "\n",
    "#define constraints: tfin - t_ij >= Duree[i,j], \\forall ij\n",
    "@constraint(model2, tfin - t[1,3] >= Duree[1,3] )\n",
    "@constraint(model2, tfin - t[2,3] >= Duree[2,3] )\n",
    "\n",
    "\n",
    "# define x variables as CONTINUOUS (recall that it is not possible to define binary variables in Clp)\n",
    "@variable(model2, 0 <= x_2_1__1_1 <= 1)\n",
    "@variable(model2, 0 <= x_2_3__1_2 <= 1)\n",
    "varsshouldbebinary=[x_2_1__1_1,x_2_3__1_2]\n",
    "\n",
    "\n",
    "# define bigM constraints linking x and t variables\n",
    "@constraint(model2, t[2,1] - t[1,1] >=  Duree[1,1] - bigM*x_2_1__1_1)\n",
    "@constraint(model2, t[1,1] - t[2,1] >=  Duree[2,1] - bigM*(1-x_2_1__1_1))\n",
    "@constraint(model2, t[2,3] - t[1,2] >=  Duree[1,2] - bigM*x_2_3__1_2)\n",
    "@constraint(model2, t[1,2] - t[2,3] >=  Duree[2,3] - bigM*(1-x_2_3__1_2))\n",
    "\n",
    "\n",
    "println(model2)"
   ]
  },
  {
   "cell_type": "markdown",
   "metadata": {},
   "source": [
    "### Boucle principale : résoudre la relaxation linéaire, appliquer les tests de sondabilité, identifier le prochain noeud, répéter."
   ]
  },
  {
   "cell_type": "code",
   "execution_count": 29,
   "metadata": {},
   "outputs": [
    {
     "name": "stdout",
     "output_type": "stream",
     "text": [
      "\n",
      "Node number 0: \n",
      "-----\n",
      "Min tfin\n",
      "Subject to\n",
      " -t[1,1] + t[1,2] ≥ 6.0\n",
      " -t[1,2] + t[1,3] ≥ 7.0\n",
      " -t[2,1] + t[2,2] ≥ 3.0\n",
      " -t[2,2] + t[2,3] ≥ 5.0\n",
      " -t[1,3] + tfin ≥ 0.0\n",
      " -t[2,3] + tfin ≥ 1.0\n",
      " -t[1,1] + t[2,1] + 22 x_2_1__1_1 ≥ 6.0\n",
      " t[1,1] - t[2,1] - 22 x_2_1__1_1 ≥ -19.0\n",
      " -t[1,2] + t[2,3] + 22 x_2_3__1_2 ≥ 7.0\n",
      " t[1,2] - t[2,3] - 22 x_2_3__1_2 ≥ -21.0\n",
      " t[1,1] ≥ 0.0\n",
      " t[2,1] ≥ 0.0\n",
      " t[1,2] ≥ 0.0\n",
      " t[2,2] ≥ 0.0\n",
      " t[1,3] ≥ 0.0\n",
      " t[2,3] ≥ 0.0\n",
      " x_2_1__1_1 ≥ 0.0\n",
      " x_2_3__1_2 ≥ 0.0\n",
      " x_2_1__1_1 ≤ 1.0\n",
      " x_2_3__1_2 ≤ 1.0\n",
      "\n",
      "Solve : start ... ... end\n",
      "\n",
      "Solution relax lin\n",
      "\tt[1,1]=0.0\tt[2,1]=0.0\tt[1,2]=6.0\tt[2,2]=3.0\tt[1,3]=13.0\tt[2,3]=8.0\ttfin=13.0\tx_2_1__1_1=0.27272727272727276\tx_2_3__1_2=0.22727272727272732 \n",
      "\n",
      "Solution precedemment memorisee Any[] avec date de fin 22\n",
      "\n",
      "non sondable\n",
      "\n",
      "Node number 1: \n",
      "-----\n",
      "Min tfin\n",
      "Subject to\n",
      " -t[1,1] + t[1,2] ≥ 6.0\n",
      " -t[1,2] + t[1,3] ≥ 7.0\n",
      " -t[2,1] + t[2,2] ≥ 3.0\n",
      " -t[2,2] + t[2,3] ≥ 5.0\n",
      " -t[1,3] + tfin ≥ 0.0\n",
      " -t[2,3] + tfin ≥ 1.0\n",
      " -t[1,1] + t[2,1] + 22 x_2_1__1_1 ≥ 6.0\n",
      " t[1,1] - t[2,1] - 22 x_2_1__1_1 ≥ -19.0\n",
      " -t[1,2] + t[2,3] + 22 x_2_3__1_2 ≥ 7.0\n",
      " t[1,2] - t[2,3] - 22 x_2_3__1_2 ≥ -21.0\n",
      " t[1,1] ≥ 0.0\n",
      " t[2,1] ≥ 0.0\n",
      " t[1,2] ≥ 0.0\n",
      " t[2,2] ≥ 0.0\n",
      " t[1,3] ≥ 0.0\n",
      " t[2,3] ≥ 0.0\n",
      " x_2_1__1_1 ≥ 1.0\n",
      " x_2_3__1_2 ≥ 0.0\n",
      " x_2_1__1_1 ≤ 1.0\n",
      " x_2_3__1_2 ≤ 1.0\n",
      "\n",
      "Solve : start ... ... end\n",
      "\n",
      "Solution relax lin\n",
      "\tt[1,1]=3.0\tt[2,1]=0.0\tt[1,2]=9.0\tt[2,2]=3.0\tt[1,3]=16.0\tt[2,3]=8.0\ttfin=16.0\tx_2_1__1_1=1.0\tx_2_3__1_2=0.36363636363636365 \n",
      "\n",
      "Solution precedemment memorisee Any[] avec date de fin 22\n",
      "\n",
      "non sondable\n",
      "\n",
      "Node number 2: \n",
      "-----\n",
      "Min tfin\n",
      "Subject to\n",
      " -t[1,1] + t[1,2] ≥ 6.0\n",
      " -t[1,2] + t[1,3] ≥ 7.0\n",
      " -t[2,1] + t[2,2] ≥ 3.0\n",
      " -t[2,2] + t[2,3] ≥ 5.0\n",
      " -t[1,3] + tfin ≥ 0.0\n",
      " -t[2,3] + tfin ≥ 1.0\n",
      " -t[1,1] + t[2,1] + 22 x_2_1__1_1 ≥ 6.0\n",
      " t[1,1] - t[2,1] - 22 x_2_1__1_1 ≥ -19.0\n",
      " -t[1,2] + t[2,3] + 22 x_2_3__1_2 ≥ 7.0\n",
      " t[1,2] - t[2,3] - 22 x_2_3__1_2 ≥ -21.0\n",
      " t[1,1] ≥ 0.0\n",
      " t[2,1] ≥ 0.0\n",
      " t[1,2] ≥ 0.0\n",
      " t[2,2] ≥ 0.0\n",
      " t[1,3] ≥ 0.0\n",
      " t[2,3] ≥ 0.0\n",
      " x_2_1__1_1 ≥ 1.0\n",
      " x_2_3__1_2 ≥ 1.0\n",
      " x_2_1__1_1 ≤ 1.0\n",
      " x_2_3__1_2 ≤ 1.0\n",
      "\n",
      "Solve : start ... ... end\n",
      "\n",
      "Solution relax lin\n",
      "\tt[1,1]=3.0\tt[2,1]=0.0\tt[1,2]=9.0\tt[2,2]=3.0\tt[1,3]=16.0\tt[2,3]=8.0\ttfin=16.0\tx_2_1__1_1=1.0\tx_2_3__1_2=1.0 \n",
      "\n",
      "Solution precedemment memorisee Any[] avec date de fin 22\n",
      "\n",
      "TR\n",
      "\n",
      "Node number 3: \n",
      "-----\n",
      "Min tfin\n",
      "Subject to\n",
      " -t[1,1] + t[1,2] ≥ 6.0\n",
      " -t[1,2] + t[1,3] ≥ 7.0\n",
      " -t[2,1] + t[2,2] ≥ 3.0\n",
      " -t[2,2] + t[2,3] ≥ 5.0\n",
      " -t[1,3] + tfin ≥ 0.0\n",
      " -t[2,3] + tfin ≥ 1.0\n",
      " -t[1,1] + t[2,1] + 22 x_2_1__1_1 ≥ 6.0\n",
      " t[1,1] - t[2,1] - 22 x_2_1__1_1 ≥ -19.0\n",
      " -t[1,2] + t[2,3] + 22 x_2_3__1_2 ≥ 7.0\n",
      " t[1,2] - t[2,3] - 22 x_2_3__1_2 ≥ -21.0\n",
      " t[1,1] ≥ 0.0\n",
      " t[2,1] ≥ 0.0\n",
      " t[1,2] ≥ 0.0\n",
      " t[2,2] ≥ 0.0\n",
      " t[1,3] ≥ 0.0\n",
      " t[2,3] ≥ 0.0\n",
      " x_2_1__1_1 ≥ 1.0\n",
      " x_2_3__1_2 ≥ 0.0\n",
      " x_2_1__1_1 ≤ 1.0\n",
      " x_2_3__1_2 ≤ 0.0\n",
      "\n",
      "Solve : start ... ... end\n",
      "\n",
      "Solution relax lin\n",
      "\tt[1,1]=3.0\tt[2,1]=0.0\tt[1,2]=9.0\tt[2,2]=11.0\tt[1,3]=17.0\tt[2,3]=16.0\ttfin=17.0\tx_2_1__1_1=1.0\tx_2_3__1_2=0.0 \n",
      "\n",
      "Solution precedemment memorisee [3.0 9.0 16.0; 0.0 3.0 8.0] avec date de fin 16.0\n",
      "\n",
      "TO\n",
      "\n",
      "Node number 4: \n",
      "-----\n",
      "Min tfin\n",
      "Subject to\n",
      " -t[1,1] + t[1,2] ≥ 6.0\n",
      " -t[1,2] + t[1,3] ≥ 7.0\n",
      " -t[2,1] + t[2,2] ≥ 3.0\n",
      " -t[2,2] + t[2,3] ≥ 5.0\n",
      " -t[1,3] + tfin ≥ 0.0\n",
      " -t[2,3] + tfin ≥ 1.0\n",
      " -t[1,1] + t[2,1] + 22 x_2_1__1_1 ≥ 6.0\n",
      " t[1,1] - t[2,1] - 22 x_2_1__1_1 ≥ -19.0\n",
      " -t[1,2] + t[2,3] + 22 x_2_3__1_2 ≥ 7.0\n",
      " t[1,2] - t[2,3] - 22 x_2_3__1_2 ≥ -21.0\n",
      " t[1,1] ≥ 0.0\n",
      " t[2,1] ≥ 0.0\n",
      " t[1,2] ≥ 0.0\n",
      " t[2,2] ≥ 0.0\n",
      " t[1,3] ≥ 0.0\n",
      " t[2,3] ≥ 0.0\n",
      " x_2_1__1_1 ≥ 0.0\n",
      " x_2_3__1_2 ≥ 0.0\n",
      " x_2_1__1_1 ≤ 0.0\n",
      " x_2_3__1_2 ≤ 1.0\n",
      "\n",
      "Solve : start ... ... end\n",
      "\n",
      "Solution relax lin\n",
      "\tt[1,1]=0.0\tt[2,1]=6.0\tt[1,2]=6.0\tt[2,2]=9.0\tt[1,3]=15.0\tt[2,3]=14.0\ttfin=15.0\tx_2_1__1_1=0.0\tx_2_3__1_2=0.0 \n",
      "\n",
      "Solution precedemment memorisee [3.0 9.0 16.0; 0.0 3.0 8.0] avec date de fin 16.0\n",
      "\n",
      "TR\n",
      "\n",
      "FINISHED\n",
      "\n",
      "******\n",
      "\n",
      "Optimal value = 15.0\n",
      "\n",
      "Optimal t=[0.0 6.0 15.0; 6.0 9.0 14.0]\n"
     ]
    }
   ],
   "source": [
    "\n",
    "listvars=[]\n",
    "listvals=[]\n",
    "\n",
    "BestTfin=bigM\n",
    "Bestsol=[]\n",
    "\n",
    "current_node_number=0\n",
    "stop = false\n",
    "\n",
    "while(!stop)\n",
    "    \n",
    "    println(\"\\nNode number \", current_node_number, \": \\n-----\\n\", model2)\n",
    "\n",
    "    print(\"Solve : start ... \")\n",
    "    status = optimize!(model2)\n",
    "    println(\"... end\")\n",
    "\n",
    "    println(\"\\nSolution relax lin\",); [print(\"\\t\", name(v),\"=\",value(v)) for v in all_variables(model2)]; \n",
    "    println(\" \"); println(\"\\nSolution precedemment memorisee \", Bestsol, \" avec date de fin \", BestTfin, \"\\n\")\n",
    "\n",
    "    TA, TO, TR, Bestsol, BestTfin = TestsSondabilite_relaxlin(model2, varsshouldbebinary, BestTfin, Bestsol)\n",
    "\n",
    "    is_node_sondable = TA || TO || TR\n",
    "    \n",
    "    if(!is_node_sondable)\n",
    "        listvars, listvals = SeparerNoeud_relaxlin(varsshouldbebinary, listvars, listvals)\n",
    "    else\n",
    "        listvars, listvals, stop = ExplorerAutreNoeud_relaxlin(listvars, listvals)\n",
    "    end\n",
    "\n",
    "    current_node_number = current_node_number + 1\n",
    "end\n",
    "\n",
    "println(\"\\n******\\n\\nOptimal value = \", BestTfin, \"\\n\\nOptimal t=\", Bestsol)\n"
   ]
  },
  {
   "cell_type": "code",
   "execution_count": 30,
   "metadata": {},
   "outputs": [
    {
     "name": "stdout",
     "output_type": "stream",
     "text": [
      "\n",
      "******\n",
      "\n",
      "Optimal value = 15.0\n",
      "\n",
      "Optimal t=[0.0 6.0 15.0; 6.0 9.0 14.0]\n"
     ]
    }
   ],
   "source": [
    "println(\"\\n******\\n\\nOptimal value = \", BestTfin, \"\\n\\nOptimal t=\", Bestsol)"
   ]
  },
  {
   "cell_type": "markdown",
   "metadata": {},
   "source": [
    "## Méthode des graphes disjonctifs"
   ]
  },
  {
   "cell_type": "code",
   "execution_count": 37,
   "metadata": {},
   "outputs": [
    {
     "data": {
      "text/plain": [
       "Bellman_Ford_long (generic function with 2 methods)"
      ]
     },
     "execution_count": 37,
     "metadata": {},
     "output_type": "execute_result"
    }
   ],
   "source": [
    "function indexOf(sommets,s)\n",
    "    for i in 1:length(sommets)\n",
    "        if sommets[i] == s\n",
    "            return i\n",
    "        end\n",
    "    end\n",
    "end\n",
    "\n",
    "#function predecesseurs(graph, sommets)\n",
    " #   predecess = []\n",
    "  #  for i in 1:length(graph)\n",
    "   #     append!(predecess,[[]])\n",
    "    #end\n",
    "    \n",
    "    #for i in 1:length(sommets)\n",
    "     #   for arc in 1:length(graph)\n",
    "      #      if graph[arc][2] == sommets[i]\n",
    "       #         append!(predecess[i],indexOf(sommets,[graph[arc][1]]))\n",
    "        #    end\n",
    "       # end\n",
    "   # end\n",
    "    \n",
    "   # return predecess\n",
    "#end\n",
    "            \n",
    "\n",
    "function Bellman_Ford_long(graph,graph_dis,debut,source,sommets)\n",
    "    \n",
    "   # preds = predecesseurs(graph,sommets)\n",
    "   # for i in source\n",
    "        #append!(preds[i],[debut])\n",
    "   # end\n",
    "    \n",
    "    #preds_dis = predecesseurs(graph_dis,sommets)\n",
    "    for i in 1:length(sommets)\n",
    "        s = indexOf(sommets,sommets[i])\n",
    "        distance_dis[s] = -typemax(Int64)  \n",
    "    end\n",
    "    for i in source\n",
    "        distance_dis[i] = 0\n",
    "    end\n",
    "    distance_dis[debut] = 0\n",
    "    \n",
    "    \n",
    "    for k in 2:length(sommets)-1\n",
    "        distancee = copy(distance_dis)\n",
    "        for j in 1:length(sommets)\n",
    "            \n",
    "            for i_arc in 1:length(graph)\n",
    "            \n",
    "                s1 = graph[i_arc][1]\n",
    "                s2 = graph[i_arc][2]\n",
    "                i1 = indexOf(sommets,s1)\n",
    "                i2 = indexOf(sommets,s2)\n",
    "                poids = graph[i_arc][3]\n",
    "\n",
    "                if distancee[i1] + poids > distance_dis[i2] || (i2 in source) ## on inverse le sens de comparaison\n",
    "                   \n",
    "                    for arc in 1:length(graph)\n",
    "                        \n",
    "                        if graph_dis[arc][2] == s2 \n",
    "                            \n",
    "                                i3 = indexOf(sommets,graph[arc][1])\n",
    "                                poids3 = graph_dis[arc][3]\n",
    "                                if distance_dis[i2]+poids3 < distancee[i3]+ poids3\n",
    "                                        distance_dis[i2] = min(distancee[i1]+poids+poids3,distancee[i3]+poids3)\n",
    "                                else\n",
    "                                        distance_dis[i2] = distance_dis[i1] + poids\n",
    "                                end                  \n",
    "                        end                        \n",
    "                    end                   \n",
    "                end                \n",
    "            end            \n",
    "        end\n",
    "        \n",
    "        \n",
    "        if distance_dis == distancee\n",
    "            break\n",
    "        end\n",
    "    end\n",
    "    \n",
    "    return distancee\n",
    "    \n",
    "end"
   ]
  },
  {
   "cell_type": "code",
   "execution_count": 39,
   "metadata": {},
   "outputs": [
    {
     "name": "stdout",
     "output_type": "stream",
     "text": [
      "Solution PSE basée sur le graphe disjonctif :\n",
      "\t\tA1 commence après : 0\n",
      "\t\tA2 commence après : 0\n",
      "\t\tA3 commence après : 0\n",
      "\t\tB1 commence après : 0\n",
      "\t\tB2 commence après : 0\n",
      "\t\tB3 commence après : 0\n",
      "\t\tF commence après : 0\n",
      "[0, 0, 0, 0, 0, 0, 0, 0]\n",
      "\n",
      " tfin = 0\n"
     ]
    }
   ],
   "source": [
    "sommets = [\"D\", \"A1\", \"A2\", \"A3\", \"B1\",\"B2\",\"B3\",\"F\"] # La source est le premier élément de sommets\n",
    "graph = [(\"D\", \"A1\", 0), (\"D\", \"A2\", 0), (\"A1\", \"A2\",6), (\"A2\",\"A3\",7), (\"A3\", \"F\",0), (\"B1\", \"B2\",3), (\"B2\", \"B3\",5),(\"B3\",\"F\",1)] \n",
    "graph_dis = [(\"A1\",\"B1\",6),(\"B1\",\"A1\",3),(\"A2\",\"B3\",7),(\"B3\",\"A2\",1),(\"B3\",\"A2\",1),(\"B3\",\"A2\",1),(\"B3\",\"A2\",1),(\"B3\",\"A2\",1)]\n",
    "distance_dis = [0, 0, 0, 0, 0, 0, 0, 0]\n",
    "distancee = [0, 0, 0, 0, 0, 0, 0, 0]\n",
    "\n",
    "A = Bellman_Ford_long(graph,graph_dis,1,[2,5],sommets)\n",
    "println(\"Solution PSE basée sur le graphe disjonctif :\")\n",
    "for i in 2:length(graph)\n",
    "    println(\"\\t\\t\", sommets[i], \" commence après : \",A[i])\n",
    "end \n",
    "println(A)\n",
    "println(\"\\n tfin = \", value(A[8]))"
   ]
  },
  {
   "cell_type": "markdown",
   "metadata": {},
   "source": [
    "## Changement dans l'écriture de la fonction Bellman_Ford\n",
    "La modélisation des graphes sous forme de tableau de triplets est un peu difficile à manipuler. On opte alors à un représentation matricielle du graphe de taille nxn, où n représente le nombre de sommets du graphe, pour pouvoir manipuler l'ensemble des prédecesseurs d'un sommet."
   ]
  },
  {
   "cell_type": "code",
   "execution_count": 40,
   "metadata": {},
   "outputs": [
    {
     "data": {
      "text/plain": [
       "bellman_ford_long (generic function with 1 method)"
      ]
     },
     "execution_count": 40,
     "metadata": {},
     "output_type": "execute_result"
    }
   ],
   "source": [
    "using JuMP\n",
    "\n",
    "function pred(graph)\n",
    "    n = size(graph)[1]\n",
    "    predecesseurs = []\n",
    "    for i in 1:n\n",
    "        append!(predecesseurs,[[]])\n",
    "    end\n",
    "    for i in 1:n\n",
    "        for j in 1:n\n",
    "            if graph[i,j] != 0\n",
    "                append!(predecesseurs[j],[i])\n",
    "            end \n",
    "        end\n",
    "    end \n",
    "    return predecesseurs\n",
    "end\n",
    "\n",
    "\n",
    "function bellman_ford_long(graph, graph_dis, source,debut,sommets)\n",
    "    n = size(graph)[1]\n",
    "    distance = zeros(n)\n",
    "    distance_dis = zeros(n)\n",
    "  \n",
    "    preds = pred(graph)\n",
    "    for i in source\n",
    "        append!(preds[i],[debut])\n",
    "    end \n",
    "    \n",
    "    preds_dis = pred(graph_dis)\n",
    "\n",
    "\n",
    "    for i in 1:n\n",
    "      distance_dis[i] = -Inf\n",
    "    end\n",
    "    for k in source\n",
    "        distance_dis[k] = 0\n",
    "    end\n",
    "    distance_dis[debut] = 0\n",
    "    \n",
    "\n",
    "    for k in 1:n\n",
    "        distance = copy(distance_dis)\n",
    "        for j in 1:n\n",
    "            for i in preds[j]\n",
    "                if (distance[i] + graph[i, j] > distance_dis[j]) || (j in source && k==1)\n",
    "                    if  !isempty(preds_dis[j])\n",
    "                        for k in preds_dis[j]                \n",
    "                            if distance_dis[j]+graph_dis[j,k] < distance[k]+graph_dis[k,j]\n",
    "                                distance_dis[j] = min(distance[i] + graph[i, j] + graph_dis[k,j],distance[k]+graph_dis[k,j])\n",
    "                            else\n",
    "                                distance_dis[j] = distance_dis[i] + graph[i, j]\n",
    "                            end \n",
    "                        end \n",
    "                    else                      \n",
    "                        distance_dis[j] = distance_dis[i] + graph[i, j]\n",
    "                    end \n",
    "                end \n",
    "            end \n",
    "        end \n",
    "\n",
    "        if distance_dis == distance\n",
    "            break\n",
    "        end\n",
    "    end \n",
    "\n",
    "  return distance\n",
    "\n",
    "end\n",
    "  "
   ]
  },
  {
   "cell_type": "code",
   "execution_count": 41,
   "metadata": {},
   "outputs": [
    {
     "name": "stdout",
     "output_type": "stream",
     "text": [
      "Solution PSE basée sur le graphe disjonctif :\n",
      "\t\tA1 commence après : 0.0\n",
      "\t\tA2 commence après : 6.0\n",
      "\t\tA3 commence après : -Inf\n",
      "\t\tB1 commence après : 6.0\n",
      "\t\tB2 commence après : 9.0\n",
      "\t\tB3 commence après : 14.0\n",
      "\t\tF commence après : 15.0\n",
      "\n",
      " tfin = 15.0\n"
     ]
    }
   ],
   "source": [
    "# Test\n",
    "graph = [0 0 0 0 0 0 0 0\n",
    "          0 0 6 0 0 0 0 0;\n",
    "          0 0 0 0 0 0 0 7;\n",
    "          0 0 0 0 0 0 0 0;\n",
    "          0 0 0 0 0 3 0 0;\n",
    "          0 0 0 0 0 0 5 0;\n",
    "          0 0 0 0 0 0 0 1;\n",
    "          0 0 0 0 0 0 0 0]\n",
    "          \n",
    "graph_dis = [0 0 0 0 0 0 0 0\n",
    "              0 0 0 0 6 0 0 0;\n",
    "              0 0 0 0 0 0 7 0;\n",
    "              0 0 0 0 0 0 0 0;\n",
    "              0 3 0 0 0 0 0 0;\n",
    "              0 0 0 0 0 0 0 0;\n",
    "              0 0 1 0 0 0 0 0;\n",
    "              0 0 0 0 0 0 0 0]\n",
    "sommets = [\"D\",\"A1\",\"A2\",\"A3\",\"B1\",\"B2\",\"B3\",\"F\"]\n",
    "\n",
    "f = bellman_ford_long(graph,graph_dis,[2,5],1,sommets)\n",
    "println(\"Solution PSE basée sur le graphe disjonctif :\")\n",
    "n = size(graph)[1]\n",
    "for i in 2:n\n",
    "   println(\"\\t\\t\", sommets[i], \" commence après : \",f[i])\n",
    "end #for\n",
    "\n",
    "println(\"\\n tfin = \", value(f[8]))"
   ]
  },
  {
   "cell_type": "markdown",
   "metadata": {},
   "source": [
    "# Conclusion générale sur la partie 2\n",
    "\n",
    "On a testé ce code sur l'exemple du sujet. \n",
    "Grâce à ce code, nous trouvons bel et bien la valeur 15.    \n",
    "\n",
    "Quelques améliorations pourraient être apportée: \n",
    "\n",
    "* Rajouter l'élimination des noeuds où l'on détecte un cycle de poids positif.   \n",
    "Cela rentrerait dans le cadre d'un test TA amélioré. \n",
    "* L'algorithme de BellmanFord est utilisé à chaque fois qu'un noeud est sondable. Peut-être serait-il possible d'éliminer des noeuds sans appliquer BellmanFord en détectant ou utilisant des algorithmes moins coûteux et permettant d'éliminer. Peut-être existe-t-il des cas particuliers que l'on pourrait se passer de calculer. "
   ]
  }
 ],
 "metadata": {
  "kernelspec": {
   "display_name": "Julia 1.5.2",
   "language": "julia",
   "name": "julia-1.5"
  },
  "language_info": {
   "file_extension": ".jl",
   "mimetype": "application/julia",
   "name": "julia",
   "version": "1.5.2"
  }
 },
 "nbformat": 4,
 "nbformat_minor": 4
}
